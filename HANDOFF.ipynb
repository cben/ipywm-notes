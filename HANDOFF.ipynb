{
 "cells": [
  {
   "cell_type": "markdown",
   "id": "07ce88dc-87af-4fe0-95d4-0529e13c0874",
   "metadata": {
    "editable": true,
    "slideshow": {
     "slide_type": ""
    },
    "tags": []
   },
   "source": [
    "# Handing off a running notebook between frontends"
   ]
  },
  {
   "cell_type": "code",
   "execution_count": 3,
   "id": "4dbffaac-4cba-4bfb-a8a2-ca29d22d3eb6",
   "metadata": {
    "editable": true,
    "slideshow": {
     "slide_type": ""
    },
    "tags": []
   },
   "outputs": [
    {
     "name": "stdout",
     "output_type": "stream",
     "text": [
      "0 ",
      "1 ",
      "2 ",
      "3 ",
      "4 ",
      "5 ",
      "6 ",
      "7 ",
      "8 ",
      "9 ",
      "10 ",
      "11 ",
      "12 ",
      "13 ",
      "14 ",
      "15 ",
      "16 ",
      "17 ",
      "18 ",
      "19 ",
      "20 ",
      "21 ",
      "22 ",
      "23 ",
      "24 ",
      "25 ",
      "26 ",
      "27 ",
      "28 ",
      "29 "
     ]
    }
   ],
   "source": [
    "for i in range(30):\n",
    "    print(i, end=' ')\n",
    "    import time; time.sleep(1)"
   ]
  },
  {
   "cell_type": "code",
   "execution_count": 11,
   "id": "5d76c1d5-61f1-489c-bf2b-f601dcc2ac7a",
   "metadata": {
    "editable": true,
    "slideshow": {
     "slide_type": ""
    },
    "tags": []
   },
   "outputs": [
    {
     "data": {
      "text/plain": [
       "29"
      ]
     },
     "execution_count": 11,
     "metadata": {},
     "output_type": "execute_result"
    }
   ],
   "source": [
    "i"
   ]
  },
  {
   "cell_type": "markdown",
   "id": "496f31b9-acaf-4b07-83ce-f9565105c00f",
   "metadata": {
    "editable": true,
    "slideshow": {
     "slide_type": ""
    },
    "tags": []
   },
   "source": [
    "## Who updates the outputs under a cell?\n",
    "\n",
    "[Kernels zmq protocol](https://jupyter-protocol.readthedocs.io/) only understands [execute->results](https://stackoverflow.com/a/79339022/239657), _not even aware notebooks exist_!\n",
    "\n",
    "### historically\n",
    "\n",
    "Originally server was dumb, necessary for browser to access kernel and file system but all smarts was in frontend JS.  \n",
    "The execution outputs and results were followed by frontend via `/api/kernels/{ID}/channels` websocket transporting zmq messages pretty much 1:1.  \n",
    "\n",
    "It was frontend writing .ipynb file (last-write-wins) via another HTTP API `/api/contents/{PATH}`:\n",
    "\n",
    "```mermaid\n",
    "graph LR\n",
    "frontend@{ shape: process } \n",
    "server@{ shape: rounded } \n",
    "kernel@{ shape: hex }\n",
    "\n",
    "subgraph jupyter-server\n",
    "    direction TB\n",
    "    style jupyter-server rx:2ex,ry:2ex\n",
    "    req_ex([\"channels websocket\"])\n",
    "    req_edit([\"PUT contents\"])\n",
    "end\n",
    "\n",
    "file[\".ipynb file\"]@{ shape: card }\n",
    "\n",
    "frontend -->|execute_request on 'shell' channel| req_ex <-->|zmq| kernel\n",
    "req_ex ==>|results on 'iopub'... + execute_reply on 'shell'| frontend ==>|updated ipynb JSON| req_edit --> file\n",
    "```"
   ]
  },
  {
   "cell_type": "markdown",
   "id": "6657745e-7a6e-47eb-9f06-2b0f1ccdcbd6",
   "metadata": {},
   "source": [
    "### move to Yjs, by 2022\n",
    "\n",
    "Gradually [jupyter-collaboration](https://jupyterlab-realtime-collaboration.readthedocs.io/) extension introduced collaboration via shared [Yjs CRDT](https://docs.yjs.dev/)...\n",
    "\n",
    "In 2022, the last major piece fell into place: saving .ipynb files switched from separate contents API request to Yjs websocket: https://github.com/jupyterlab/jupyterlab/pull/12360  \n",
    "but to this day is still by default _driven by frontend_:\n",
    "\n",
    "```mermaid\n",
    "graph LR\n",
    "frontends[\"frontends, each has Y model\"]@{ shape: processes } \n",
    "kernel@{ shape: hex }\n",
    "\n",
    "subgraph jupyter-server\n",
    "    direction TB\n",
    "    style jupyter-server rx:2ex,ry:2ex\n",
    "    req_ex([\"channels websocket\"])\n",
    "    req_edit([\"Yjs websocket\"])\n",
    "    Ymodel[\"Y model\"]@{ shape: db }\n",
    "end\n",
    "    \n",
    "direction TB\n",
    "file[.ipynb file]@{ shape: card }\n",
    "\n",
    "frontends --->|execute_request on 'shell' channel| req_ex <-->|zmq| kernel\n",
    "req_ex ==>|results on 'iopub'... + execute_reply on 'shell'| frontends ==>|Y edit outputs| req_edit <==> Ymodel --> file\n",
    "```\n",
    "\n",
    "* contents API still used for e.g. saving checkpoints?  And file browsing, etc.\n",
    "* I'm drawing the Y model as in-memory, but it's also [backed by hidden `.jupyter_ystore.db` file](https://jupyterlab-realtime-collaboration.readthedocs.io/en/latest/configuration.html).\n",
    "\n",
    "## Closing tab + reopening\n",
    "## (AKA if a cell executes in a forest with no frontends to hear it...)\n",
    "\n",
    "* In absence of frontend, There is logic to buffer outputs which _maybe_ works when you temporary lose network or reopen _same_ tab.   \n",
    "\n",
    "* Mostly, buffered outputs get lost in practice 😢 https://github.com/jupyter-server/jupyter_server/issues/1274, esp. if you connect from different browser.\n",
    "  * work coord nation repo https://github.com/jupyter-server/message_replay — abandoned"
   ]
  },
  {
   "cell_type": "markdown",
   "id": "699b2009-d0ef-46fc-b9fb-299871b36409",
   "metadata": {},
   "source": [
    "### 2024+ opt-in Server-side execution! 🎉\n",
    "Fix by cleaner architecture!  Frontend just fires off new simpler `api/kernels/{ID}/execute` and server is [responsible](https://github.com/datalayer/jupyter-server-nbmodel/blob/c44d3684c91d95fc5e59514aea8ffd44c67c2878/jupyter_server_nbmodel/handlers.py#L264-L267) for following outputs + results messages and _updating Y model_.  \n",
    "Any frontends then observe the new outputs via Yjs sync (even if they were offline/came later).\n",
    "\n",
    "```mermaid\n",
    "graph LR\n",
    "frontends[\"frontends, each has Yjs model\"]@{ shape: processes } \n",
    "server@{ shape: rounded } \n",
    "kernel@{ shape: hex }\n",
    "\n",
    "subgraph server\n",
    "    direction TB\n",
    "    style server rx:2ex,ry:2ex\n",
    "    req_ex([\"POST execute\"])\n",
    "    req_edit([\"Yjs websocket\"])\n",
    "    Ymodel[\"Y model\"]@{ shape: db }\n",
    "end\n",
    "\n",
    "direction TB\n",
    "file[.ipynb file]@{ shape: card }\n",
    "\n",
    "frontends -->|HTTP| req_ex --->|zmq execute| kernel\n",
    "kernel --->|zmq results...| req_ex\n",
    "req_ex ==>|Y edit outputs| Ymodel\n",
    "req_edit <==> Ymodel --> file\n",
    "frontends <==>|Y sync| req_edit\n",
    "```\n",
    "  \n",
    "collaboration model landed in https://github.com/jupyterlab/jupyter-collaboration/pull/279  \n",
    "Two options to use:\n",
    "\n",
    "* jupyter-server with extension https://github.com/datalayer/jupyter-server-nbmodel/\n",
    "  ```\n",
    "  uvx --with \"jupyter_server_nbmodel[lab]\" jupyter lab\n",
    "  ```\n",
    "\n",
    "* jupyverse with opt-in, install per https://github.com/jupyterlab/jupyter-collaboration/pull/279 ?\n",
    "  ```\n",
    "  jupyverse --set kernels.require_yjs=true --set jupyterlab.server_side_execution\n",
    "  ```\n",
    "  harder to find compatible versions?\n",
    "\n",
    "Still less tested, may have rough edges...  Widgets kinda work?\n",
    "\n",
    "* [jpterm](https://codeberg.org/davidbrochart/jpterm) needs `--collaborative --experimental` mode to use it.  It also really needs jupyter-server to [disable ALL auth](https://davidbrochart.github.io/jpterm/usage/CLI/) which is bad idea!\n",
    "  See also https://codeberg.org/davidbrochart/jpterm/pulls/3\n",
    "\n",
    "----\n",
    "\n",
    "### P.S. the overall trajectory of relying more and more on CRDT model is classic [Local First](https://localfirstweb.dev/) success story 🌟"
   ]
  },
  {
   "cell_type": "markdown",
   "id": "80c2595e-3a54-47fa-b41d-9b84158f4eea",
   "metadata": {},
   "source": [
    "### Alternative: keep jpterm running!\n",
    "If you want to start notebook \"headless\" and connect later, start `jpterm --server '...?token=...'` inside tmux, and just leave it running.  \n",
    "Y collaboration means no problem using a browser notebook in parallel.  \n",
    "This way, you *don't need server-side execution*, it'll work with jpterm relaying outputs.  Later executions (whether client- or server- side) can be triggered by notebook."
   ]
  },
  {
   "cell_type": "code",
   "execution_count": null,
   "id": "040b9783-a166-4733-8b63-5999b80e2168",
   "metadata": {},
   "outputs": [],
   "source": []
  }
 ],
 "metadata": {
  "kernelspec": {
   "display_name": "Python 3 (ipykernel)",
   "language": "python",
   "name": "python3"
  },
  "language_info": {
   "codemirror_mode": {
    "name": "ipython",
    "version": 3
   },
   "file_extension": ".py",
   "mimetype": "text/x-python",
   "name": "python",
   "nbconvert_exporter": "python",
   "pygments_lexer": "ipython3",
   "version": "3.13.3"
  }
 },
 "nbformat": 4,
 "nbformat_minor": 5
}
