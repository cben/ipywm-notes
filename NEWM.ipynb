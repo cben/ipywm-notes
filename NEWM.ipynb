{
 "cells": [
  {
   "cell_type": "markdown",
   "id": "f9023e90-9eb3-4641-8b6d-d0353a9a8254",
   "metadata": {
    "editable": true,
    "slideshow": {
     "slide_type": ""
    },
    "tags": []
   },
   "source": [
    "# newm toplevel in notebook form\n",
    "There are two ways to expose a running python app to jupyter REPL access.\n",
    "1. Embed a kernel: start serving the jupyter kernel protocol from the app.  See [this blog](https://blog.jupyter.org/plug-your-application-into-the-jupyter-world-805e48918801).\n",
    "2. Launch the app from jupyter.  Perhaps simpler — \"just\" take the top level script launching your app and convert it into notebook form.  <-- DOING THIS HERE"
   ]
  },
  {
   "cell_type": "code",
   "execution_count": 1,
   "id": "72bb7bba-8cef-4bff-aec1-c6e8a8f6df0b",
   "metadata": {},
   "outputs": [
    {
     "ename": "NameError",
     "evalue": "name 'x' is not defined",
     "output_type": "error",
     "traceback": [
      "\u001b[31m---------------------------------------------------------------------------\u001b[39m",
      "\u001b[31mNameError\u001b[39m                                 Traceback (most recent call last)",
      "\u001b[36mCell\u001b[39m\u001b[36m \u001b[39m\u001b[32mIn[1]\u001b[39m\u001b[32m, line 1\u001b[39m\n\u001b[32m----> \u001b[39m\u001b[32m1\u001b[39m \u001b[43mx\u001b[49m\n",
      "\u001b[31mNameError\u001b[39m: name 'x' is not defined"
     ]
    }
   ],
   "source": [
    "x"
   ]
  },
  {
   "cell_type": "code",
   "execution_count": 1,
   "id": "6a17dee2-51aa-461d-aa52-d13b4d9136ac",
   "metadata": {},
   "outputs": [],
   "source": [
    "x = 43 # to test concurrent connections"
   ]
  },
  {
   "cell_type": "code",
   "execution_count": 2,
   "id": "05226ca2-015f-4c6e-9415-d4acfa7542b5",
   "metadata": {
    "collapsed": false,
    "jupyter": {
     "outputs_hidden": false,
     "source_hidden": false
    }
   },
   "outputs": [],
   "source": [
    "from __future__ import annotations\n",
    "from typing import Optional\n",
    "import io\n",
    "import os, os.path\n",
    "import sys\n",
    "import threading\n",
    "import time\n",
    "import logging"
   ]
  },
  {
   "cell_type": "code",
   "execution_count": 3,
   "id": "5936103b",
   "metadata": {
    "collapsed": false,
    "jupyter": {
     "outputs_hidden": false,
     "source_hidden": false
    }
   },
   "outputs": [],
   "source": [
    "%load_ext autoreload"
   ]
  },
  {
   "cell_type": "code",
   "execution_count": 4,
   "id": "562441eb-64b6-4fa3-a045-01f432f4ef03",
   "metadata": {
    "collapsed": false,
    "jupyter": {
     "outputs_hidden": false,
     "source_hidden": false
    }
   },
   "outputs": [
    {
     "ename": "ModuleNotFoundError",
     "evalue": "No module named 'pywm'",
     "output_type": "error",
     "traceback": [
      "\u001b[31m---------------------------------------------------------------------------\u001b[39m",
      "\u001b[31mModuleNotFoundError\u001b[39m                       Traceback (most recent call last)",
      "\u001b[36mCell\u001b[39m\u001b[36m \u001b[39m\u001b[32mIn[4]\u001b[39m\u001b[32m, line 2\u001b[39m\n\u001b[32m      1\u001b[39m get_ipython().run_line_magic(\u001b[33m'\u001b[39m\u001b[33mautoreload\u001b[39m\u001b[33m'\u001b[39m, \u001b[33m'\u001b[39m\u001b[33m3\u001b[39m\u001b[33m'\u001b[39m)\n\u001b[32m----> \u001b[39m\u001b[32m2\u001b[39m \u001b[38;5;28;01mimport\u001b[39;00m\u001b[38;5;250m \u001b[39m\u001b[34;01mnewm\u001b[39;00m\u001b[34;01m.\u001b[39;00m\u001b[34;01mlayout\u001b[39;00m,\u001b[38;5;250m \u001b[39m\u001b[34;01mnewm\u001b[39;00m\u001b[34;01m.\u001b[39;00m\u001b[34;01mconfig\u001b[39;00m\n\u001b[32m      3\u001b[39m get_ipython().run_line_magic(\u001b[33m'\u001b[39m\u001b[33maimport\u001b[39m\u001b[33m'\u001b[39m, \u001b[33m'\u001b[39m\u001b[33m'\u001b[39m)\n",
      "\u001b[36mFile \u001b[39m\u001b[32m~/WM/newm-atha/newm/__init__.py:3\u001b[39m\n\u001b[32m      1\u001b[39m \u001b[38;5;28;01mfrom\u001b[39;00m\u001b[38;5;250m \u001b[39m\u001b[34;01m__future__\u001b[39;00m\u001b[38;5;250m \u001b[39m\u001b[38;5;28;01mimport\u001b[39;00m annotations\n\u001b[32m----> \u001b[39m\u001b[32m3\u001b[39m \u001b[38;5;28;01mfrom\u001b[39;00m\u001b[38;5;250m \u001b[39m\u001b[34;01m.\u001b[39;00m\u001b[34;01mrun\u001b[39;00m\u001b[38;5;250m \u001b[39m\u001b[38;5;28;01mimport\u001b[39;00m run\n\u001b[32m      4\u001b[39m \u001b[38;5;28;01mfrom\u001b[39;00m\u001b[38;5;250m \u001b[39m\u001b[34;01m.\u001b[39;00m\u001b[34;01mcmd\u001b[39;00m\u001b[38;5;250m \u001b[39m\u001b[38;5;28;01mimport\u001b[39;00m cmd\n\u001b[32m      5\u001b[39m \u001b[38;5;28;01mfrom\u001b[39;00m\u001b[38;5;250m \u001b[39m\u001b[34;01m.\u001b[39;00m\u001b[34;01mdbus\u001b[39;00m\u001b[38;5;250m \u001b[39m\u001b[38;5;28;01mimport\u001b[39;00m connect_to_auth\n",
      "\u001b[36mFile \u001b[39m\u001b[32m~/WM/newm-atha/newm/run.py:12\u001b[39m\n\u001b[32m      9\u001b[39m \u001b[38;5;28;01mexcept\u001b[39;00m:\n\u001b[32m     10\u001b[39m     YAPPI = \u001b[38;5;28;01mFalse\u001b[39;00m\n\u001b[32m---> \u001b[39m\u001b[32m12\u001b[39m \u001b[38;5;28;01mfrom\u001b[39;00m\u001b[38;5;250m \u001b[39m\u001b[34;01m.\u001b[39;00m\u001b[34;01mlayout\u001b[39;00m\u001b[38;5;250m \u001b[39m\u001b[38;5;28;01mimport\u001b[39;00m Layout\n\u001b[32m     14\u001b[39m logger = logging.getLogger(\u001b[34m__name__\u001b[39m)\n\u001b[32m     16\u001b[39m \u001b[38;5;28;01mdef\u001b[39;00m\u001b[38;5;250m \u001b[39m\u001b[34mrun\u001b[39m(debug: \u001b[38;5;28mbool\u001b[39m=\u001b[38;5;28;01mFalse\u001b[39;00m, profile: \u001b[38;5;28mbool\u001b[39m=\u001b[38;5;28;01mFalse\u001b[39;00m, config_file: Optional[\u001b[38;5;28mstr\u001b[39m]=\u001b[38;5;28;01mNone\u001b[39;00m) -> \u001b[38;5;28;01mNone\u001b[39;00m:\n",
      "\u001b[36mFile \u001b[39m\u001b[32m~/WM/newm-atha/newm/layout.py:12\u001b[39m\n\u001b[32m      9\u001b[39m \u001b[38;5;28;01mfrom\u001b[39;00m\u001b[38;5;250m \u001b[39m\u001b[34;01mitertools\u001b[39;00m\u001b[38;5;250m \u001b[39m\u001b[38;5;28;01mimport\u001b[39;00m product\n\u001b[32m     10\u001b[39m \u001b[38;5;28;01mfrom\u001b[39;00m\u001b[38;5;250m \u001b[39m\u001b[34;01mthreading\u001b[39;00m\u001b[38;5;250m \u001b[39m\u001b[38;5;28;01mimport\u001b[39;00m Thread\n\u001b[32m---> \u001b[39m\u001b[32m12\u001b[39m \u001b[38;5;28;01mfrom\u001b[39;00m\u001b[38;5;250m \u001b[39m\u001b[34;01mpywm\u001b[39;00m\u001b[38;5;250m \u001b[39m\u001b[38;5;28;01mimport\u001b[39;00m (\n\u001b[32m     13\u001b[39m     PyWM,\n\u001b[32m     14\u001b[39m     PyWMModifiers,\n\u001b[32m     15\u001b[39m     PyWMOutput,\n\u001b[32m     16\u001b[39m     PyWMDownstreamState,\n\u001b[32m     17\u001b[39m     PYWM_MOD_CTRL,\n\u001b[32m     18\u001b[39m     PYWM_PRESSED,\n\u001b[32m     19\u001b[39m )\n\u001b[32m     20\u001b[39m \u001b[38;5;28;01mfrom\u001b[39;00m\u001b[38;5;250m \u001b[39m\u001b[34;01m.\u001b[39;00m\u001b[34;01mgestures\u001b[39;00m\u001b[38;5;250m \u001b[39m\u001b[38;5;28;01mimport\u001b[39;00m Gesture\n\u001b[32m     21\u001b[39m \u001b[38;5;28;01mfrom\u001b[39;00m\u001b[38;5;250m \u001b[39m\u001b[34;01m.\u001b[39;00m\u001b[34;01mgestures\u001b[39;00m\u001b[34;01m.\u001b[39;00m\u001b[34;01mprovider\u001b[39;00m\u001b[38;5;250m \u001b[39m\u001b[38;5;28;01mimport\u001b[39;00m GestureProvider, CGestureProvider, PyEvdevGestureProvider\n",
      "\u001b[31mModuleNotFoundError\u001b[39m: No module named 'pywm'"
     ]
    }
   ],
   "source": [
    "%autoreload 3\n",
    "import newm.layout, newm.config\n",
    "%aimport"
   ]
  },
  {
   "cell_type": "markdown",
   "id": "629b9120-92a1-427d-8bcd-75f65c3554df",
   "metadata": {},
   "source": [
    "## Logging & config"
   ]
  },
  {
   "cell_type": "code",
   "execution_count": 8,
   "id": "c14acee6-cfe5-4887-aa6c-9f1a97c03ebc",
   "metadata": {},
   "outputs": [
    {
     "name": "stdout",
     "output_type": "stream",
     "text": [
      "/home/beni/WM/jupy/bin/pip\n"
     ]
    }
   ],
   "source": [
    "!which pip"
   ]
  },
  {
   "cell_type": "code",
   "execution_count": 20,
   "id": "6e35cf60-d15e-4653-8df5-36a926609074",
   "metadata": {},
   "outputs": [],
   "source": [
    "# https://ipywidgets.readthedocs.io/en/latest/examples/Output%20Widget.html#interacting-with-output-widgets-from-background-threads\n",
    "# https://ipywidgets.readthedocs.io/en/latest/examples/Widget%20Asynchronous.html#updating-a-widget-in-the-background\n",
    "import threading\n",
    "from IPython.display import display, HTML\n",
    "import ipywidgets as widgets\n",
    "import time\n",
    "\n",
    "def thread_func():\n",
    "    total = 60\n",
    "    for i in range(0, total):\n",
    "           \n",
    "        time.sleep(1)\n",
    "        progress.value = float(i+1)/total\n",
    "        if i % 5 == 4:\n",
    "            #out.append_stderr(f'Buzz{i} ')\n",
    "            # Prepend?\n",
    "            out.outputs = ({'name': 'stderr', 'output_type': 'stream', 'text': (f'Buzz{i} ')},) + out.outputs\n",
    "        else:\n",
    "            #print(f'{i}', end=' ')\n",
    "            out.append_stdout(f'{i} ')\n",
    "\n",
    "        # Don't interfere if this cell got re-evaluated and a new thread started\n",
    "        if threading.current_thread() is not thread:\n",
    "            break\n",
    "        \n",
    "    out.append_display_data(HTML(f\"<em>All done! {threading.current_thread()}</em>\"))\n",
    "\n",
    "progress = widgets.FloatProgress(value=0.0, min=0.0, max=1.0)\n",
    "out = widgets.Output()\n",
    "thread = threading.Thread(target=thread_func, name='widgets test')\n",
    "thread.start()\n"
   ]
  },
  {
   "cell_type": "code",
   "execution_count": 21,
   "id": "9f51a1af-22ee-4e8d-bbb3-614dd22c8909",
   "metadata": {},
   "outputs": [
    {
     "data": {
      "text/plain": [
       "'Display in main thread'"
      ]
     },
     "metadata": {},
     "output_type": "display_data"
    },
    {
     "data": {
      "application/vnd.jupyter.widget-view+json": {
       "model_id": "3ac718b2585a4c7db3b28636151e2a14",
       "version_major": 2,
       "version_minor": 0
      },
      "text/plain": [
       "FloatProgress(value=0.0, max=1.0)"
      ]
     },
     "execution_count": 21,
     "metadata": {},
     "output_type": "execute_result"
    }
   ],
   "source": [
    "# Now the key: the container is displayed (while empty) in the main thread\n",
    "# * After browser close & r, you may need to re-display the widget objects.\n",
    "#   That will allow you to see live updates, including past outputs, from still-running thread!\n",
    "display('Display in main thread')\n",
    "progress"
   ]
  },
  {
   "cell_type": "code",
   "execution_count": 22,
   "id": "014585ec-da24-409a-935b-7ba8458fbd14",
   "metadata": {},
   "outputs": [
    {
     "data": {
      "application/vnd.jupyter.widget-view+json": {
       "model_id": "28732b9f6f544a119c9d603f7fa590a7",
       "version_major": 2,
       "version_minor": 0
      },
      "text/plain": [
       "Output()"
      ]
     },
     "metadata": {},
     "output_type": "display_data"
    }
   ],
   "source": [
    "display(out)\n",
    "\n",
    "# `Output.__enter__` does not replace sys.stdout; it remains same `ipykernel.iostream.OutStream` instance.\n",
    "# Instead it mucks something about msg_id - to route 'stream' messages to the widget I guess?\n",
    "with out:\n",
    "    for j in range(100, 105):\n",
    "        print(j)"
   ]
  },
  {
   "cell_type": "code",
   "execution_count": 23,
   "id": "f4c716f5-fdf1-486f-84bd-8b5a23ed3925",
   "metadata": {},
   "outputs": [
    {
     "data": {
      "text/plain": [
       "[<_MainThread(MainThread, started 140211985966912)>,\n",
       " <Thread(IOPub, started daemon 140211681253056)>,\n",
       " <Heartbeat(Heartbeat, started daemon 140211672860352)>,\n",
       " <Thread(Thread-2 (_watch_pipe_fd), started daemon 140211647682240)>,\n",
       " <Thread(Thread-3 (_watch_pipe_fd), started daemon 140211639289536)>,\n",
       " <ControlThread(Control, started daemon 140211556185792)>,\n",
       " <HistorySavingThread(IPythonHistorySavingThread, started 140211547793088)>,\n",
       " <ParentPollerUnix(Thread-1, started daemon 140211539400384)>,\n",
       " <Thread(widgets test, started 140211525764800)>]"
      ]
     },
     "execution_count": 23,
     "metadata": {},
     "output_type": "execute_result"
    }
   ],
   "source": [
    "threading.enumerate()"
   ]
  },
  {
   "cell_type": "markdown",
   "id": "0053fc41-ebdd-4b1d-a17b-54cbdda3583e",
   "metadata": {},
   "source": [
    "### Does IPykernel capture C-level writes to fd 1, 2?"
   ]
  },
  {
   "cell_type": "code",
   "execution_count": null,
   "id": "f96405ee-4cfa-4405-94cf-4c6160ba029b",
   "metadata": {},
   "outputs": [
    {
     "name": "stderr",
     "output_type": "stream",
     "text": [
      "==================================================\n"
     ]
    },
    {
     "data": {
      "text/plain": [
       "51"
      ]
     },
     "execution_count": 40,
     "metadata": {},
     "output_type": "execute_result"
    }
   ],
   "source": [
    "import sys\n",
    "sys.__stderr__.write('='*50 + '\\n')"
   ]
  },
  {
   "cell_type": "code",
   "execution_count": 41,
   "id": "8de2751a-4199-45fc-b156-13e3169b4c43",
   "metadata": {},
   "outputs": [
    {
     "name": "stderr",
     "output_type": "stream",
     "text": [
      "///////////\n"
     ]
    },
    {
     "data": {
      "text/plain": [
       "0"
      ]
     },
     "execution_count": 41,
     "metadata": {},
     "output_type": "execute_result"
    }
   ],
   "source": [
    "import os\n",
    "os.system('echo /////////// 1>&2')"
   ]
  },
  {
   "cell_type": "code",
   "execution_count": 56,
   "id": "a72b25a3-e739-489e-8bff-6f51a7bb9a84",
   "metadata": {},
   "outputs": [
    {
     "name": "stdout",
     "output_type": "stream",
     "text": [
      "lr-x------ 1 beni beni 64 Jan 20 11:24 0 -> \u001b[01;31m\u001b[Kpipe\u001b[m\u001b[K:[13940338]\n",
      "l-wx------ 1 beni beni 64 Jan 20 11:24 1 -> \u001b[01;31m\u001b[Kpipe\u001b[m\u001b[K:[13947597]\n",
      "l-wx------ 1 beni beni 64 Jan 20 11:24 2 -> \u001b[01;31m\u001b[Kpipe\u001b[m\u001b[K:[13947598]\n",
      "lr-x------ 1 beni beni 64 Jan 20 11:24 36 -> \u001b[01;31m\u001b[Kpipe\u001b[m\u001b[K:[13947597]\n",
      "l-wx------ 1 beni beni 64 Jan 20 11:24 37 -> \u001b[01;31m\u001b[Kpipe\u001b[m\u001b[K:[13947597]\n",
      "lr-x------ 1 beni beni 64 Jan 20 11:24 39 -> \u001b[01;31m\u001b[Kpipe\u001b[m\u001b[K:[13947598]\n",
      "l-wx------ 1 beni beni 64 Jan 20 11:24 40 -> \u001b[01;31m\u001b[Kpipe\u001b[m\u001b[K:[13947598]\n",
      "lr-x------ 1 beni beni 64 Jan 20 11:27 60 -> \u001b[01;31m\u001b[Kpipe\u001b[m\u001b[K:[14983695]\n",
      "l-wx------ 1 beni beni 64 Jan 20 11:27 62 -> \u001b[01;31m\u001b[Kpipe\u001b[m\u001b[K:[14983695]\n"
     ]
    }
   ],
   "source": [
    "# That works via pipes:\n",
    "!ls -lv /proc/{os.getpid()}/fd | grep pipe"
   ]
  },
  {
   "cell_type": "code",
   "execution_count": null,
   "id": "e87e0c42-ca70-4529-b01a-99b9a51cefb6",
   "metadata": {},
   "outputs": [],
   "source": []
  },
  {
   "cell_type": "code",
   "execution_count": null,
   "id": "879426e9-8d70-42d8-9bb1-3fadf18991d3",
   "metadata": {},
   "outputs": [],
   "source": []
  },
  {
   "cell_type": "code",
   "execution_count": 25,
   "id": "7d33fd11-d92e-411c-86f8-1c28ae0cb5ee",
   "metadata": {
    "collapsed": false,
    "jupyter": {
     "outputs_hidden": false,
     "source_hidden": false
    }
   },
   "outputs": [
    {
     "ename": "NameError",
     "evalue": "name 'os' is not defined",
     "output_type": "error",
     "traceback": [
      "\u001b[0;31m---------------------------------------------------------------------------\u001b[0m",
      "\u001b[0;31mNameError\u001b[0m                                 Traceback (most recent call last)",
      "Cell \u001b[0;32mIn[25], line 4\u001b[0m\n\u001b[1;32m      2\u001b[0m debug: \u001b[38;5;28mbool\u001b[39m\u001b[38;5;241m=\u001b[39m\u001b[38;5;28;01mTrue\u001b[39;00m\n\u001b[1;32m      3\u001b[0m \u001b[38;5;66;03m#profile: bool=False\u001b[39;00m\n\u001b[0;32m----> 4\u001b[0m config_file: Optional[\u001b[38;5;28mstr\u001b[39m]\u001b[38;5;241m=\u001b[39m \u001b[43mos\u001b[49m\u001b[38;5;241m.\u001b[39mpath\u001b[38;5;241m.\u001b[39mexpanduser(\u001b[38;5;124m'\u001b[39m\u001b[38;5;124m~/.config/newm/config.py\u001b[39m\u001b[38;5;124m'\u001b[39m)\n\u001b[1;32m      5\u001b[0m log_file: \u001b[38;5;28mstr\u001b[39m\u001b[38;5;241m=\u001b[39m os\u001b[38;5;241m.\u001b[39mpath\u001b[38;5;241m.\u001b[39mexpanduser(\u001b[38;5;124m'\u001b[39m\u001b[38;5;124m~/.cache/newm/newm_log\u001b[39m\u001b[38;5;124m'\u001b[39m)\n",
      "\u001b[0;31mNameError\u001b[0m: name 'os' is not defined"
     ]
    }
   ],
   "source": [
    "# These params mirror arguments of `def run(debug...)` in newm/run.py\n",
    "debug: bool=True\n",
    "#profile: bool=False\n",
    "config_file: Optional[str]= os.path.expanduser('~/.config/newm/config.py')\n",
    "log_file: str= os.path.expanduser('~/.cache/newm/newm_log')"
   ]
  },
  {
   "cell_type": "code",
   "execution_count": 16,
   "id": "e2d8fa01-a250-43d8-9fcc-a726fa8c0377",
   "metadata": {
    "collapsed": false,
    "jupyter": {
     "outputs_hidden": false,
     "source_hidden": false
    }
   },
   "outputs": [
    {
     "ename": "NameError",
     "evalue": "name 'log_file' is not defined",
     "output_type": "error",
     "traceback": [
      "\u001b[0;31m---------------------------------------------------------------------------\u001b[0m",
      "\u001b[0;31mNameError\u001b[0m                                 Traceback (most recent call last)",
      "Cell \u001b[0;32mIn[16], line 2\u001b[0m\n\u001b[1;32m      1\u001b[0m logger \u001b[38;5;241m=\u001b[39m logging\u001b[38;5;241m.\u001b[39mgetLogger(\u001b[38;5;18m__name__\u001b[39m)\n\u001b[0;32m----> 2\u001b[0m handler \u001b[38;5;241m=\u001b[39m logging\u001b[38;5;241m.\u001b[39mFileHandler(\u001b[43mlog_file\u001b[49m)\n\u001b[1;32m      4\u001b[0m \u001b[38;5;28;01mif\u001b[39;00m debug:\n\u001b[1;32m      5\u001b[0m     formatter \u001b[38;5;241m=\u001b[39m logging\u001b[38;5;241m.\u001b[39mFormatter(\u001b[38;5;124m'\u001b[39m\u001b[38;5;124m[\u001b[39m\u001b[38;5;132;01m%(levelname)s\u001b[39;00m\u001b[38;5;124m] \u001b[39m\u001b[38;5;132;01m%(filename)s\u001b[39;00m\u001b[38;5;124m:\u001b[39m\u001b[38;5;132;01m%(lineno)s\u001b[39;00m\u001b[38;5;124m \u001b[39m\u001b[38;5;132;01m%(asctime)s\u001b[39;00m\u001b[38;5;124m: \u001b[39m\u001b[38;5;132;01m%(message)s\u001b[39;00m\u001b[38;5;124m'\u001b[39m, datefmt\u001b[38;5;241m=\u001b[39m\u001b[38;5;124m'\u001b[39m\u001b[38;5;124m%\u001b[39m\u001b[38;5;124mY-\u001b[39m\u001b[38;5;124m%\u001b[39m\u001b[38;5;124mm-\u001b[39m\u001b[38;5;132;01m%d\u001b[39;00m\u001b[38;5;124m \u001b[39m\u001b[38;5;124m%\u001b[39m\u001b[38;5;124mH:\u001b[39m\u001b[38;5;124m%\u001b[39m\u001b[38;5;124mM:\u001b[39m\u001b[38;5;124m%\u001b[39m\u001b[38;5;124mS\u001b[39m\u001b[38;5;124m'\u001b[39m)\n",
      "\u001b[0;31mNameError\u001b[0m: name 'log_file' is not defined"
     ]
    }
   ],
   "source": [
    "logger = logging.getLogger(__name__)\n",
    "handler = logging.FileHandler(log_file)\n",
    "\n",
    "if debug:\n",
    "    formatter = logging.Formatter('[%(levelname)s] %(filename)s:%(lineno)s %(asctime)s: %(message)s', datefmt='%Y-%m-%d %H:%M:%S')\n",
    "    handler.setLevel(logging.DEBUG)\n",
    "else:\n",
    "    formatter = logging.Formatter('[%(levelname)s] %(asctime)s: %(message)s', datefmt='%Y-%m-%d %H:%M:%S')\n",
    "    handler.setLevel(logging.INFO)\n",
    "\n",
    "handler.setFormatter(formatter)\n",
    "\n",
    "for l in [\"newm\", \"pywm\"]:\n",
    "    log = logging.getLogger(l)\n",
    "    log.setLevel(logging.DEBUG)\n",
    "    log.addHandler(handler)"
   ]
  },
  {
   "cell_type": "markdown",
   "id": "50322733-f50f-407e-b9c8-3682a96024cf",
   "metadata": {},
   "source": [
    "- [ ] TODO: pywm should give `wlr_log_init()` a callback to control logging destination?\n"
   ]
  },
  {
   "cell_type": "markdown",
   "id": "a44d3f3e-1553-412b-8db2-1c68e8aefc9d",
   "metadata": {},
   "source": [
    "## Redirect C-level stdout from pywm->wlroots as well.\n",
    "(For more details see https://eli.thegreenplace.net/2015/redirecting-all-kinds-of-stdout-in-python/ and https://github.com/minrk/wurlitzer package.)"
   ]
  },
  {
   "cell_type": "code",
   "execution_count": 1,
   "id": "4df78b88-9d9b-4ec9-bb07-9db501393df4",
   "metadata": {
    "scrolled": true
   },
   "outputs": [
    {
     "ename": "NameError",
     "evalue": "name 'log_file' is not defined",
     "output_type": "error",
     "traceback": [
      "\u001b[31m---------------------------------------------------------------------------\u001b[39m",
      "\u001b[31mNameError\u001b[39m                                 Traceback (most recent call last)",
      "\u001b[36mCell\u001b[39m\u001b[36m \u001b[39m\u001b[32mIn[1]\u001b[39m\u001b[32m, line 2\u001b[39m\n\u001b[32m      1\u001b[39m \u001b[38;5;28;01mtry\u001b[39;00m:\n\u001b[32m----> \u001b[39m\u001b[32m2\u001b[39m     \u001b[43mlog_stream\u001b[49m  \u001b[38;5;66;03m# idempotent\u001b[39;00m\n\u001b[32m      3\u001b[39m \u001b[38;5;28;01mexcept\u001b[39;00m \u001b[38;5;167;01mNameError\u001b[39;00m:\n",
      "\u001b[31mNameError\u001b[39m: name 'log_stream' is not defined",
      "\nDuring handling of the above exception, another exception occurred:\n",
      "\u001b[31mNameError\u001b[39m                                 Traceback (most recent call last)",
      "\u001b[36mCell\u001b[39m\u001b[36m \u001b[39m\u001b[32mIn[1]\u001b[39m\u001b[32m, line 4\u001b[39m\n\u001b[32m      2\u001b[39m     log_stream  \u001b[38;5;66;03m# idempotent\u001b[39;00m\n\u001b[32m      3\u001b[39m \u001b[38;5;28;01mexcept\u001b[39;00m \u001b[38;5;167;01mNameError\u001b[39;00m:\n\u001b[32m----> \u001b[39m\u001b[32m4\u001b[39m     log_stream = \u001b[38;5;28mopen\u001b[39m(\u001b[43mlog_file\u001b[49m, \u001b[33m'\u001b[39m\u001b[33ma\u001b[39m\u001b[33m'\u001b[39m)\n\u001b[32m      6\u001b[39m \u001b[38;5;66;03m# Make file descriptor 1 (stdout) and 2 (stderr) point to the same file.\u001b[39;00m\n\u001b[32m      7\u001b[39m os.dup2(log_stream.fileno(), \u001b[32m1\u001b[39m)\n",
      "\u001b[31mNameError\u001b[39m: name 'log_file' is not defined"
     ]
    }
   ],
   "source": [
    "try:\n",
    "    log_stream  # idempotent\n",
    "except NameError:\n",
    "    log_stream = open(log_file, 'a')\n",
    "\n",
    "# Make file descriptor 1 (stdout) and 2 (stderr) point to the same file.\n",
    "os.dup2(log_stream.fileno(), 1)\n",
    "os.dup2(log_stream.fileno(), 2)\n",
    "# Do NOT touch Python-level sys.stdout/err which are ipykernel proxies.\n",
    "# Since we run wlroots in background thread(s), don't bother restoring :-p\n",
    "\n",
    "print('@@@ test Python-level stdout still goes to notebook')\n",
    "os.system('echo @@@ test C-level redirection')"
   ]
  },
  {
   "cell_type": "code",
   "execution_count": 8,
   "id": "eb979a65-0fb4-442f-bb5f-b47eab331813",
   "metadata": {},
   "outputs": [],
   "source": []
  },
  {
   "cell_type": "code",
   "execution_count": 9,
   "id": "c2cebb50-19c8-4be7-ba64-b4b427810da5",
   "metadata": {
    "execution": {
     "iopub.execute_input": "2025-01-10T09:16:17.151458Z",
     "iopub.status.busy": "2025-01-10T09:16:17.151234Z",
     "iopub.status.idle": "2025-01-10T09:16:17.156468Z",
     "shell.execute_reply": "2025-01-10T09:16:17.156164Z"
    }
   },
   "outputs": [
    {
     "data": {
      "text/plain": [
       "{<Logger Comm (WARNING)>,\n",
       " <Logger IPKernelApp (DEBUG)>,\n",
       " <Logger __main__ (WARNING)>,\n",
       " <Logger asyncio (WARNING)>,\n",
       " <Logger autoreload (WARNING)>,\n",
       " <Logger newm (DEBUG)>,\n",
       " <Logger parso (WARNING)>,\n",
       " <Logger pywm (DEBUG)>,\n",
       " <Logger tornado (WARNING)>}"
      ]
     },
     "execution_count": 9,
     "metadata": {},
     "output_type": "execute_result"
    }
   ],
   "source": [
    "logging.root.getChildren()"
   ]
  },
  {
   "cell_type": "markdown",
   "id": "773807bb-ae33-4395-be40-983b3324bd92",
   "metadata": {},
   "source": [
    "## Run in a thread — so cell \"finishes\" and we can explore _while still running_"
   ]
  },
  {
   "cell_type": "markdown",
   "id": "e074ff9c-258e-4770-bfa6-af48a840d12c",
   "metadata": {},
   "source": [
    "* 🤔 try using jupyter debugging, which automatically [runs in separate thread](https://www.romaglushko.com/blog/jupyter-kernel-architecture/#code-debugging) ?\n",
    "* 🎉 [JEP91 subshells](https://github.com/jupyter/enhancement-proposals/blob/master/kernel-subshells/kernel-subshells.md) added protocol for executing in separate threads, coming [to ipykernel](https://github.com/ipython/ipykernel/pull/1249) and [to jupyterlab](https://github.com/jupyterlab/jupyterlab/issues/16882).\n",
    "* https://github.com/jupyter/jupyter_client/issues/797 tracks background execution of cells; they're undecided whether to achieve it via subshells or else..."
   ]
  },
  {
   "cell_type": "code",
   "execution_count": 10,
   "id": "d9962bf6-8bbd-4ed8-b57e-43d60174fade",
   "metadata": {
    "collapsed": true,
    "execution": {
     "iopub.execute_input": "2025-01-10T09:16:17.158346Z",
     "iopub.status.busy": "2025-01-10T09:16:17.158229Z",
     "iopub.status.idle": "2025-01-10T09:16:17.171787Z",
     "shell.execute_reply": "2025-01-10T09:16:17.171424Z"
    },
    "jupyter": {
     "outputs_hidden": true
    }
   },
   "outputs": [
    {
     "ename": "NameError",
     "evalue": "name 'newm' is not defined",
     "output_type": "error",
     "traceback": [
      "\u001b[0;31m---------------------------------------------------------------------------\u001b[0m",
      "\u001b[0;31mNameError\u001b[0m                                 Traceback (most recent call last)",
      "Cell \u001b[0;32mIn[10], line 3\u001b[0m\n\u001b[1;32m      1\u001b[0m \u001b[38;5;28;01mtry\u001b[39;00m:\n\u001b[1;32m      2\u001b[0m     \u001b[38;5;66;03m# Allow \"Run all cells\" again when newm is already running\u001b[39;00m\n\u001b[0;32m----> 3\u001b[0m     \u001b[43mwm\u001b[49m, mainloop_thread\n\u001b[1;32m      4\u001b[0m \u001b[38;5;28;01mexcept\u001b[39;00m \u001b[38;5;167;01mNameError\u001b[39;00m:\n",
      "\u001b[0;31mNameError\u001b[0m: name 'wm' is not defined",
      "\nDuring handling of the above exception, another exception occurred:\n",
      "\u001b[0;31mNameError\u001b[0m                                 Traceback (most recent call last)",
      "Cell \u001b[0;32mIn[10], line 5\u001b[0m\n\u001b[1;32m      3\u001b[0m     wm, mainloop_thread\n\u001b[1;32m      4\u001b[0m \u001b[38;5;28;01mexcept\u001b[39;00m \u001b[38;5;167;01mNameError\u001b[39;00m:\n\u001b[0;32m----> 5\u001b[0m     wm \u001b[38;5;241m=\u001b[39m \u001b[43mnewm\u001b[49m\u001b[38;5;241m.\u001b[39mlayout\u001b[38;5;241m.\u001b[39mLayout(debug\u001b[38;5;241m=\u001b[39mdebug, config_file\u001b[38;5;241m=\u001b[39mconfig_file)\n\u001b[1;32m      6\u001b[0m     newm\u001b[38;5;241m.\u001b[39mlayout\u001b[38;5;241m.\u001b[39mLayout\u001b[38;5;241m.\u001b[39m_INSTANCE \u001b[38;5;241m=\u001b[39m wm\n\u001b[1;32m      8\u001b[0m     \u001b[38;5;66;03m# Unlike run.py, launch main loop in a sub-thread so this notebook remains responsive.\u001b[39;00m\n\u001b[1;32m      9\u001b[0m     \u001b[38;5;66;03m# `Layout` does spawn `LayoutThread` AND (via PyWM constructor) `PyWMThread` instances,\u001b[39;00m\n\u001b[1;32m     10\u001b[0m     \u001b[38;5;66;03m# but the inherited `PyWM.run` method blocks calls wm.c `run()` which runs wlroots main loop...\u001b[39;00m\n\u001b[1;32m     11\u001b[0m     \u001b[38;5;66;03m# This all makes naming tricky :-D\u001b[39;00m\n",
      "\u001b[0;31mNameError\u001b[0m: name 'newm' is not defined"
     ]
    }
   ],
   "source": [
    "try:\n",
    "    # Allow \"Run all cells\" again when newm is already running\n",
    "    wm, mainloop_thread\n",
    "except NameError:\n",
    "    wm = newm.layout.Layout(debug=debug, config_file=config_file)\n",
    "    newm.layout.Layout._INSTANCE = wm\n",
    "\n",
    "    # Unlike run.py, launch main loop in a sub-thread so this notebook remains responsive.\n",
    "    # `Layout` does spawn `LayoutThread` AND (via PyWM constructor) `PyWMThread` instances,\n",
    "    # but the inherited `PyWM.run` method blocks calls wm.c `run()` which runs wlroots main loop...\n",
    "    # This all makes naming tricky :-D\n",
    "    mainloop_thread = threading.Thread(name='mainloop', target=wm.run)\n",
    "    mainloop_thread.start()\n"
   ]
  },
  {
   "cell_type": "code",
   "execution_count": 11,
   "id": "1f0a8469-c179-404f-846a-adc565dd8c64",
   "metadata": {
    "execution": {
     "iopub.execute_input": "2025-01-10T09:16:17.173765Z",
     "iopub.status.busy": "2025-01-10T09:16:17.173678Z",
     "iopub.status.idle": "2025-01-10T09:16:22.179803Z",
     "shell.execute_reply": "2025-01-10T09:16:22.178936Z"
    }
   },
   "outputs": [],
   "source": [
    "import time; time.sleep(5)"
   ]
  },
  {
   "cell_type": "code",
   "execution_count": 12,
   "id": "d99b5565-c4b6-43a5-aa16-d4a9beabf118",
   "metadata": {
    "collapsed": false,
    "execution": {
     "iopub.execute_input": "2025-01-10T09:16:22.183280Z",
     "iopub.status.busy": "2025-01-10T09:16:22.182381Z",
     "iopub.status.idle": "2025-01-10T09:16:22.194249Z",
     "shell.execute_reply": "2025-01-10T09:16:22.193989Z"
    },
    "jupyter": {
     "outputs_hidden": false
    },
    "scrolled": true
   },
   "outputs": [
    {
     "ename": "NameError",
     "evalue": "name 'wm' is not defined",
     "output_type": "error",
     "traceback": [
      "\u001b[0;31m---------------------------------------------------------------------------\u001b[0m",
      "\u001b[0;31mNameError\u001b[0m                                 Traceback (most recent call last)",
      "Cell \u001b[0;32mIn[12], line 2\u001b[0m\n\u001b[1;32m      1\u001b[0m \u001b[38;5;66;03m#newm.config.load_config(path_str=config_file)\u001b[39;00m\n\u001b[0;32m----> 2\u001b[0m \u001b[43mwm\u001b[49m\u001b[38;5;241m.\u001b[39mupdate_config()\n\u001b[1;32m      3\u001b[0m \u001b[38;5;66;03m# config.py gets imported (after setting up sys.path) as regular python module.\u001b[39;00m\n\u001b[1;32m      4\u001b[0m \u001b[38;5;28;01mimport\u001b[39;00m \u001b[38;5;21;01mconfig\u001b[39;00m\n",
      "\u001b[0;31mNameError\u001b[0m: name 'wm' is not defined"
     ]
    }
   ],
   "source": [
    "Cleanup\n",
    "#newm.config.load_config(path_str=config_file)\n",
    "wm.update_config()\n",
    "# config.py gets imported (after setting up sys.path) as regular python module.\n",
    "import config\n",
    "config.NESTED"
   ]
  },
  {
   "cell_type": "markdown",
   "id": "65075ce7-1397-4fc4-97fa-3a6cb5e75a14",
   "metadata": {},
   "source": [
    "- [ ] TODO: embed config in notebook and just re-execute those cells to \"reload\" it?  Could be nice \"one workflow to rule them all\""
   ]
  },
  {
   "cell_type": "code",
   "execution_count": 13,
   "id": "2900b20c-0654-45e4-9fa3-51289afa8340",
   "metadata": {
    "collapsed": false,
    "execution": {
     "iopub.execute_input": "2025-01-10T09:16:22.195377Z",
     "iopub.status.busy": "2025-01-10T09:16:22.195290Z",
     "iopub.status.idle": "2025-01-10T09:16:22.204429Z",
     "shell.execute_reply": "2025-01-10T09:16:22.204134Z"
    },
    "jupyter": {
     "outputs_hidden": false,
     "source_hidden": false
    }
   },
   "outputs": [
    {
     "ename": "NameError",
     "evalue": "name 'wm' is not defined",
     "output_type": "error",
     "traceback": [
      "\u001b[0;31m---------------------------------------------------------------------------\u001b[0m",
      "\u001b[0;31mNameError\u001b[0m                                 Traceback (most recent call last)",
      "Cell \u001b[0;32mIn[13], line 1\u001b[0m\n\u001b[0;32m----> 1\u001b[0m \u001b[43mwm\u001b[49m\n",
      "\u001b[0;31mNameError\u001b[0m: name 'wm' is not defined"
     ]
    }
   ],
   "source": [
    "wm"
   ]
  },
  {
   "cell_type": "code",
   "execution_count": 14,
   "id": "9aef125a",
   "metadata": {
    "collapsed": false,
    "execution": {
     "iopub.execute_input": "2025-01-10T09:16:22.205427Z",
     "iopub.status.busy": "2025-01-10T09:16:22.205333Z",
     "iopub.status.idle": "2025-01-10T09:16:22.214486Z",
     "shell.execute_reply": "2025-01-10T09:16:22.213832Z"
    },
    "jupyter": {
     "outputs_hidden": false,
     "source_hidden": false
    }
   },
   "outputs": [
    {
     "ename": "NameError",
     "evalue": "name 'wm' is not defined",
     "output_type": "error",
     "traceback": [
      "\u001b[0;31m---------------------------------------------------------------------------\u001b[0m",
      "\u001b[0;31mNameError\u001b[0m                                 Traceback (most recent call last)",
      "Cell \u001b[0;32mIn[14], line 1\u001b[0m\n\u001b[0;32m----> 1\u001b[0m \u001b[38;5;28;01mwhile\u001b[39;00m \u001b[38;5;129;01mnot\u001b[39;00m \u001b[43mwm\u001b[49m\u001b[38;5;241m.\u001b[39mlayout:  \u001b[38;5;66;03m# Wait until Layout thread initializes\u001b[39;00m\n\u001b[1;32m      2\u001b[0m     \u001b[38;5;28mprint\u001b[39m(\u001b[38;5;124m'\u001b[39m\u001b[38;5;124m.\u001b[39m\u001b[38;5;124m'\u001b[39m, end\u001b[38;5;241m=\u001b[39m\u001b[38;5;124m'\u001b[39m\u001b[38;5;124m'\u001b[39m)\n\u001b[1;32m      3\u001b[0m     time\u001b[38;5;241m.\u001b[39msleep(\u001b[38;5;241m1\u001b[39m)\n",
      "\u001b[0;31mNameError\u001b[0m: name 'wm' is not defined"
     ]
    }
   ],
   "source": [
    "while not wm.layout:  # Wait until Layout thread initializes\n",
    "    print('.', end='')\n",
    "    time.sleep(1)\n",
    "wm.layout  # The outputs"
   ]
  },
  {
   "cell_type": "code",
   "execution_count": 15,
   "id": "e614c04f",
   "metadata": {
    "collapsed": false,
    "execution": {
     "iopub.execute_input": "2025-01-10T09:16:22.216381Z",
     "iopub.status.busy": "2025-01-10T09:16:22.216062Z",
     "iopub.status.idle": "2025-01-10T09:16:22.225622Z",
     "shell.execute_reply": "2025-01-10T09:16:22.225323Z"
    },
    "jupyter": {
     "outputs_hidden": false,
     "source_hidden": false
    }
   },
   "outputs": [
    {
     "ename": "NameError",
     "evalue": "name 'wm' is not defined",
     "output_type": "error",
     "traceback": [
      "\u001b[0;31m---------------------------------------------------------------------------\u001b[0m",
      "\u001b[0;31mNameError\u001b[0m                                 Traceback (most recent call last)",
      "Cell \u001b[0;32mIn[15], line 1\u001b[0m\n\u001b[0;32m----> 1\u001b[0m \u001b[43mwm\u001b[49m\u001b[38;5;241m.\u001b[39mworkspaces\n",
      "\u001b[0;31mNameError\u001b[0m: name 'wm' is not defined"
     ]
    }
   ],
   "source": [
    "wm.workspaces"
   ]
  },
  {
   "cell_type": "code",
   "execution_count": 16,
   "id": "7e675757-04d5-4d3e-8841-5c022ef5a252",
   "metadata": {
    "collapsed": false,
    "execution": {
     "iopub.execute_input": "2025-01-10T09:16:22.226776Z",
     "iopub.status.busy": "2025-01-10T09:16:22.226691Z",
     "iopub.status.idle": "2025-01-10T09:16:22.234886Z",
     "shell.execute_reply": "2025-01-10T09:16:22.234614Z"
    },
    "jupyter": {
     "outputs_hidden": false,
     "source_hidden": false
    },
    "scrolled": true
   },
   "outputs": [
    {
     "ename": "NameError",
     "evalue": "name 'wm' is not defined",
     "output_type": "error",
     "traceback": [
      "\u001b[0;31m---------------------------------------------------------------------------\u001b[0m",
      "\u001b[0;31mNameError\u001b[0m                                 Traceback (most recent call last)",
      "Cell \u001b[0;32mIn[16], line 1\u001b[0m\n\u001b[0;32m----> 1\u001b[0m \u001b[38;5;28mprint\u001b[39m(\u001b[43mwm\u001b[49m\u001b[38;5;241m.\u001b[39mdebug_str())\n",
      "\u001b[0;31mNameError\u001b[0m: name 'wm' is not defined"
     ]
    }
   ],
   "source": [
    "print(wm.debug_str())"
   ]
  },
  {
   "cell_type": "code",
   "execution_count": 17,
   "id": "ae58f7b2-468a-4439-a432-6b82e46524ea",
   "metadata": {
    "collapsed": false,
    "execution": {
     "iopub.execute_input": "2025-01-10T09:16:22.237970Z",
     "iopub.status.busy": "2025-01-10T09:16:22.237736Z",
     "iopub.status.idle": "2025-01-10T09:16:22.246739Z",
     "shell.execute_reply": "2025-01-10T09:16:22.246362Z"
    },
    "jupyter": {
     "outputs_hidden": false
    }
   },
   "outputs": [
    {
     "ename": "NameError",
     "evalue": "name 'wm' is not defined",
     "output_type": "error",
     "traceback": [
      "\u001b[0;31m---------------------------------------------------------------------------\u001b[0m",
      "\u001b[0;31mNameError\u001b[0m                                 Traceback (most recent call last)",
      "Cell \u001b[0;32mIn[17], line 1\u001b[0m\n\u001b[0;32m----> 1\u001b[0m \u001b[43mwm\u001b[49m\u001b[38;5;241m.\u001b[39m_views\n",
      "\u001b[0;31mNameError\u001b[0m: name 'wm' is not defined"
     ]
    }
   ],
   "source": [
    "wm._views"
   ]
  },
  {
   "cell_type": "code",
   "execution_count": 18,
   "id": "09561f73-26f2-4175-b385-8366a8c50dcb",
   "metadata": {
    "execution": {
     "iopub.execute_input": "2025-01-10T09:16:22.248383Z",
     "iopub.status.busy": "2025-01-10T09:16:22.248126Z",
     "iopub.status.idle": "2025-01-10T09:16:22.257155Z",
     "shell.execute_reply": "2025-01-10T09:16:22.256874Z"
    },
    "scrolled": true
   },
   "outputs": [
    {
     "ename": "NameError",
     "evalue": "name 'wm' is not defined",
     "output_type": "error",
     "traceback": [
      "\u001b[0;31m---------------------------------------------------------------------------\u001b[0m",
      "\u001b[0;31mNameError\u001b[0m                                 Traceback (most recent call last)",
      "Cell \u001b[0;32mIn[18], line 1\u001b[0m\n\u001b[0;32m----> 1\u001b[0m [v] \u001b[38;5;241m=\u001b[39m [v \u001b[38;5;28;01mfor\u001b[39;00m v \u001b[38;5;129;01min\u001b[39;00m \u001b[43mwm\u001b[49m\u001b[38;5;241m.\u001b[39mviews() \u001b[38;5;28;01mif\u001b[39;00m \u001b[38;5;124m'\u001b[39m\u001b[38;5;124mNEWM.ipynb\u001b[39m\u001b[38;5;124m'\u001b[39m \u001b[38;5;129;01min\u001b[39;00m v\u001b[38;5;241m.\u001b[39mtitle]\n\u001b[1;32m      2\u001b[0m v_state, ws_state, v_id \u001b[38;5;241m=\u001b[39m wm\u001b[38;5;241m.\u001b[39mstate\u001b[38;5;241m.\u001b[39mfind_view(v)\n\u001b[1;32m      3\u001b[0m v_state, ws_state, v_id\n",
      "\u001b[0;31mNameError\u001b[0m: name 'wm' is not defined"
     ]
    }
   ],
   "source": [
    "[v] = [v for v in wm.views() if 'NEWM.ipynb' in v.title]\n",
    "v_state, ws_state, v_id = wm.state.find_view(v)\n",
    "v_state, ws_state, v_id"
   ]
  },
  {
   "cell_type": "code",
   "execution_count": null,
   "id": "8a52c00e-7294-4ab0-96cb-37a4661657f0",
   "metadata": {},
   "outputs": [],
   "source": []
  },
  {
   "cell_type": "code",
   "execution_count": null,
   "id": "c2406bab-3868-440d-8427-068726f6cfb4",
   "metadata": {},
   "outputs": [],
   "source": []
  },
  {
   "cell_type": "code",
   "execution_count": 19,
   "id": "494ff795-5608-4346-ad90-6f3a7a5aca9d",
   "metadata": {
    "execution": {
     "iopub.execute_input": "2025-01-10T09:16:22.258378Z",
     "iopub.status.busy": "2025-01-10T09:16:22.258185Z",
     "iopub.status.idle": "2025-01-10T09:16:22.266687Z",
     "shell.execute_reply": "2025-01-10T09:16:22.266340Z"
    }
   },
   "outputs": [
    {
     "ename": "NameError",
     "evalue": "name 'wm' is not defined",
     "output_type": "error",
     "traceback": [
      "\u001b[0;31m---------------------------------------------------------------------------\u001b[0m",
      "\u001b[0;31mNameError\u001b[0m                                 Traceback (most recent call last)",
      "Cell \u001b[0;32mIn[19], line 1\u001b[0m\n\u001b[0;32m----> 1\u001b[0m \u001b[38;5;28mprint\u001b[39m(\u001b[43mwm\u001b[49m\u001b[38;5;241m.\u001b[39mto_text(wm\u001b[38;5;241m.\u001b[39mworkspaces[\u001b[38;5;241m0\u001b[39m]))\n",
      "\u001b[0;31mNameError\u001b[0m: name 'wm' is not defined"
     ]
    }
   ],
   "source": [
    "print(wm.to_text(wm.workspaces[0]))"
   ]
  },
  {
   "cell_type": "code",
   "execution_count": 20,
   "id": "4c7c5554-a84b-4eb6-b25f-a34576ff1aac",
   "metadata": {
    "execution": {
     "iopub.execute_input": "2025-01-10T09:16:22.267913Z",
     "iopub.status.busy": "2025-01-10T09:16:22.267823Z",
     "iopub.status.idle": "2025-01-10T09:16:22.276202Z",
     "shell.execute_reply": "2025-01-10T09:16:22.275687Z"
    }
   },
   "outputs": [
    {
     "ename": "NameError",
     "evalue": "name 'wm' is not defined",
     "output_type": "error",
     "traceback": [
      "\u001b[0;31m---------------------------------------------------------------------------\u001b[0m",
      "\u001b[0;31mNameError\u001b[0m                                 Traceback (most recent call last)",
      "Cell \u001b[0;32mIn[20], line 1\u001b[0m\n\u001b[0;32m----> 1\u001b[0m \u001b[43mwm\u001b[49m\u001b[38;5;241m.\u001b[39mstate\u001b[38;5;241m.\u001b[39mget_workspace_state(wm\u001b[38;5;241m.\u001b[39mworkspaces[\u001b[38;5;241m0\u001b[39m])\u001b[38;5;241m.\u001b[39msize\n",
      "\u001b[0;31mNameError\u001b[0m: name 'wm' is not defined"
     ]
    }
   ],
   "source": [
    "wm.state.get_workspace_state(wm.workspaces[0]).size"
   ]
  },
  {
   "cell_type": "code",
   "execution_count": 21,
   "id": "8fb6160f-cd34-4523-b389-15fc944ac006",
   "metadata": {
    "execution": {
     "iopub.execute_input": "2025-01-10T09:16:22.277367Z",
     "iopub.status.busy": "2025-01-10T09:16:22.277283Z",
     "iopub.status.idle": "2025-01-10T09:16:22.288655Z",
     "shell.execute_reply": "2025-01-10T09:16:22.288179Z"
    }
   },
   "outputs": [
    {
     "ename": "NameError",
     "evalue": "name 'wm' is not defined",
     "output_type": "error",
     "traceback": [
      "\u001b[0;31m---------------------------------------------------------------------------\u001b[0m",
      "\u001b[0;31mNameError\u001b[0m                                 Traceback (most recent call last)",
      "Cell \u001b[0;32mIn[21], line 1\u001b[0m\n\u001b[0;32m----> 1\u001b[0m \u001b[43mwm\u001b[49m\u001b[38;5;241m.\u001b[39mbasic_scale(\u001b[38;5;241m1\u001b[39m)\n",
      "\u001b[0;31mNameError\u001b[0m: name 'wm' is not defined"
     ]
    }
   ],
   "source": [
    "wm.basic_scale(1)"
   ]
  },
  {
   "cell_type": "code",
   "execution_count": 22,
   "id": "4e40cd96-66bb-44d3-8483-52458e4158bb",
   "metadata": {
    "execution": {
     "iopub.execute_input": "2025-01-10T09:16:22.289601Z",
     "iopub.status.busy": "2025-01-10T09:16:22.289518Z",
     "iopub.status.idle": "2025-01-10T09:16:22.297513Z",
     "shell.execute_reply": "2025-01-10T09:16:22.297139Z"
    }
   },
   "outputs": [
    {
     "ename": "NameError",
     "evalue": "name 'wm' is not defined",
     "output_type": "error",
     "traceback": [
      "\u001b[0;31m---------------------------------------------------------------------------\u001b[0m",
      "\u001b[0;31mNameError\u001b[0m                                 Traceback (most recent call last)",
      "Cell \u001b[0;32mIn[22], line 1\u001b[0m\n\u001b[0;32m----> 1\u001b[0m \u001b[43mwm\u001b[49m\u001b[38;5;241m.\u001b[39mbasic_scale(\u001b[38;5;241m-\u001b[39m\u001b[38;5;241m1\u001b[39m)\n",
      "\u001b[0;31mNameError\u001b[0m: name 'wm' is not defined"
     ]
    }
   ],
   "source": [
    "wm.basic_scale(-1)"
   ]
  },
  {
   "cell_type": "code",
   "execution_count": 23,
   "id": "5f63397c-2a93-4e1f-b167-bb3d35aaa137",
   "metadata": {
    "execution": {
     "iopub.execute_input": "2025-01-10T09:16:22.298817Z",
     "iopub.status.busy": "2025-01-10T09:16:22.298498Z",
     "iopub.status.idle": "2025-01-10T09:16:22.307388Z",
     "shell.execute_reply": "2025-01-10T09:16:22.307150Z"
    }
   },
   "outputs": [
    {
     "ename": "NameError",
     "evalue": "name 'wm' is not defined",
     "output_type": "error",
     "traceback": [
      "\u001b[0;31m---------------------------------------------------------------------------\u001b[0m",
      "\u001b[0;31mNameError\u001b[0m                                 Traceback (most recent call last)",
      "Cell \u001b[0;32mIn[23], line 1\u001b[0m\n\u001b[0;32m----> 1\u001b[0m \u001b[43mwm\u001b[49m\u001b[38;5;241m.\u001b[39mfocus_view(v)\n",
      "\u001b[0;31mNameError\u001b[0m: name 'wm' is not defined"
     ]
    }
   ],
   "source": [
    "wm.focus_view(v)"
   ]
  },
  {
   "cell_type": "code",
   "execution_count": 24,
   "id": "7695874d-25e4-4eea-ad60-e8089c7cacb3",
   "metadata": {
    "execution": {
     "iopub.execute_input": "2025-01-10T09:16:22.309033Z",
     "iopub.status.busy": "2025-01-10T09:16:22.308936Z",
     "iopub.status.idle": "2025-01-10T09:16:22.316813Z",
     "shell.execute_reply": "2025-01-10T09:16:22.316533Z"
    }
   },
   "outputs": [
    {
     "ename": "NameError",
     "evalue": "name 'wm' is not defined",
     "output_type": "error",
     "traceback": [
      "\u001b[0;31m---------------------------------------------------------------------------\u001b[0m",
      "\u001b[0;31mNameError\u001b[0m                                 Traceback (most recent call last)",
      "Cell \u001b[0;32mIn[24], line 1\u001b[0m\n\u001b[0;32m----> 1\u001b[0m \u001b[43mwm\u001b[49m\u001b[38;5;241m.\u001b[39mmove_focused_view(\u001b[38;5;241m-\u001b[39m\u001b[38;5;241m1\u001b[39m, \u001b[38;5;241m1\u001b[39m)\n",
      "\u001b[0;31mNameError\u001b[0m: name 'wm' is not defined"
     ]
    }
   ],
   "source": [
    "wm.move_focused_view(-1, 1)"
   ]
  },
  {
   "cell_type": "code",
   "execution_count": null,
   "id": "8bd4b829-5489-4dd7-9622-da60bb22a64e",
   "metadata": {},
   "outputs": [],
   "source": []
  },
  {
   "cell_type": "code",
   "execution_count": 25,
   "id": "6161763f-030b-4905-acef-d0f9718fccab",
   "metadata": {
    "collapsed": true,
    "execution": {
     "iopub.execute_input": "2025-01-10T09:16:22.317723Z",
     "iopub.status.busy": "2025-01-10T09:16:22.317605Z",
     "iopub.status.idle": "2025-01-10T09:16:22.325728Z",
     "shell.execute_reply": "2025-01-10T09:16:22.325419Z"
    },
    "jupyter": {
     "outputs_hidden": true
    }
   },
   "outputs": [
    {
     "ename": "NameError",
     "evalue": "name 'mainloop_thread' is not defined",
     "output_type": "error",
     "traceback": [
      "\u001b[0;31m---------------------------------------------------------------------------\u001b[0m",
      "\u001b[0;31mNameError\u001b[0m                                 Traceback (most recent call last)",
      "Cell \u001b[0;32mIn[25], line 2\u001b[0m\n\u001b[1;32m      1\u001b[0m \u001b[38;5;66;03m#wm.terminate()\u001b[39;00m\n\u001b[0;32m----> 2\u001b[0m \u001b[43mmainloop_thread\u001b[49m\n",
      "\u001b[0;31mNameError\u001b[0m: name 'mainloop_thread' is not defined"
     ]
    }
   ],
   "source": [
    "#wm.terminate()\n",
    "mainloop_thread"
   ]
  },
  {
   "cell_type": "code",
   "execution_count": null,
   "id": "7d226800-3af9-4ae5-99f4-fe9c5f14a470",
   "metadata": {},
   "outputs": [],
   "source": []
  }
 ],
 "metadata": {
  "kernelspec": {
   "display_name": "Python 3 (ipykernel)",
   "language": "python",
   "name": "python3"
  },
  "language_info": {
   "codemirror_mode": {
    "name": "ipython",
    "version": 3
   },
   "file_extension": ".py",
   "mimetype": "text/x-python",
   "name": "python",
   "nbconvert_exporter": "python",
   "pygments_lexer": "ipython3",
   "version": "3.13.2"
  },
  "widgets": {
   "application/vnd.jupyter.widget-state+json": {
    "state": {},
    "version_major": 2,
    "version_minor": 0
   }
  }
 },
 "nbformat": 4,
 "nbformat_minor": 5
}
