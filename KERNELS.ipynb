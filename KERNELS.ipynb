{
 "cells": [
  {
   "cell_type": "markdown",
   "id": "0fdebecf-cd5b-44bc-8ede-ab53115ff640",
   "metadata": {
    "editable": true,
    "slideshow": {
     "slide_type": ""
    },
    "tags": []
   },
   "source": [
    "lectures:\n",
    "* Dhanshree Arora on overall architecture [Jupyter - Under the Hood](https://www.youtube.com/watch?v=i22DZplhHCY)\n",
    "* David Brochart on [Jupyter Server](https://www.youtube.com/watch?v=pZC4V8xmsLE) and [Collaborative editing in Jupyter](https://www.youtube.com/watch?v=VXXLnmGqAO4)\n"
   ]
  },
  {
   "cell_type": "code",
   "execution_count": 1,
   "id": "d8ee5af4-0751-441b-bc3e-215a33ca5ad4",
   "metadata": {
    "jupyter": {
     "source_hidden": true
    },
    "scrolled": true
   },
   "outputs": [
    {
     "data": {
      "text/html": [
       "<iframe width=\"240\" height=\"150\" src=\"https://www.youtube.com/embed/i22DZplhHCY\" title=\"Jupyter - Under the Hood - presented by Dhanshree Arora\" frameborder=\"0\" allow=\"accelerometer; clipboard-write; encrypted-media; gyroscope; picture-in-picture; web-share\" referrerpolicy=\"strict-origin-when-cross-origin\" allowfullscreen></iframe>\n",
       "<iframe width=\"240\" height=\"150\" src=\"https://www.youtube.com/embed/pZC4V8xmsLE\" title=\"David Brochart   Jupyter Server—the workhorse that drives nearly all Jupyter web applications | Jupy\" frameborder=\"0\" allow=\"accelerometer; clipboard-write; encrypted-media; gyroscope; picture-in-picture; web-share\" referrerpolicy=\"strict-origin-when-cross-origin\" allowfullscreen></iframe>\n",
       "<iframe width=\"240\" height=\"150\" src=\"https://www.youtube.com/embed/VXXLnmGqAO4\" title=\"David Brochart - Collaborative editing in Jupyter | PyData Paris 2024\" frameborder=\"0\" allow=\"accelerometer; clipboard-write; encrypted-media; gyroscope; picture-in-picture; web-share\" referrerpolicy=\"strict-origin-when-cross-origin\" allowfullscreen></iframe>\n"
      ],
      "text/plain": [
       "<IPython.core.display.HTML object>"
      ]
     },
     "metadata": {},
     "output_type": "display_data"
    }
   ],
   "source": [
    "%%HTML\n",
    "<iframe width=\"240\" height=\"150\" src=\"https://www.youtube.com/embed/i22DZplhHCY\" title=\"Jupyter - Under the Hood - presented by Dhanshree Arora\" frameborder=\"0\" allow=\"accelerometer; clipboard-write; encrypted-media; gyroscope; picture-in-picture; web-share\" referrerpolicy=\"strict-origin-when-cross-origin\" allowfullscreen></iframe>\n",
    "<iframe width=\"240\" height=\"150\" src=\"https://www.youtube.com/embed/pZC4V8xmsLE\" title=\"David Brochart   Jupyter Server—the workhorse that drives nearly all Jupyter web applications | Jupy\" frameborder=\"0\" allow=\"accelerometer; clipboard-write; encrypted-media; gyroscope; picture-in-picture; web-share\" referrerpolicy=\"strict-origin-when-cross-origin\" allowfullscreen></iframe>\n",
    "<iframe width=\"240\" height=\"150\" src=\"https://www.youtube.com/embed/VXXLnmGqAO4\" title=\"David Brochart - Collaborative editing in Jupyter | PyData Paris 2024\" frameborder=\"0\" allow=\"accelerometer; clipboard-write; encrypted-media; gyroscope; picture-in-picture; web-share\" referrerpolicy=\"strict-origin-when-cross-origin\" allowfullscreen></iframe>"
   ]
  },
  {
   "cell_type": "code",
   "execution_count": null,
   "id": "fde76392-2c55-4f02-baae-03f91ea02e45",
   "metadata": {},
   "outputs": [],
   "source": []
  },
  {
   "cell_type": "markdown",
   "id": "ce69b9fb-d444-4acb-ad33-2784fda3f42e",
   "metadata": {},
   "source": [
    "## Connecting to server API"
   ]
  },
  {
   "cell_type": "code",
   "execution_count": 4,
   "id": "c10415d1-a71b-4c13-9a78-74b94d998a30",
   "metadata": {
    "editable": true,
    "slideshow": {
     "slide_type": ""
    },
    "tags": []
   },
   "outputs": [
    {
     "name": "stdout",
     "output_type": "stream",
     "text": [
      "[\n",
      "  {\n",
      "    \"base_url\": \"/\",\n",
      "    \"hostname\": \"localhost\",\n",
      "    \"password\": false,\n",
      "    \"pid\": 368763,\n",
      "    \"port\": 8888,\n",
      "    \"root_dir\": \"/home/beni/WM\",\n",
      "    \"secure\": false,\n",
      "    \"sock\": \"\",\n",
      "    \"token\": \"f246a5ae1fab9d6a88e9bfe6c930a9bb22f21c6ba8c2e8e4\",\n",
      "    \"url\": \"http://localhost:8888/\",\n",
      "    \"version\": \"2.15.0\"\n",
      "  }\n",
      "]\n"
     ]
    }
   ],
   "source": [
    "!jupyter server list --jsonlist"
   ]
  },
  {
   "cell_type": "code",
   "execution_count": 5,
   "id": "e94781c9-9b5a-4533-b24e-f9bbfd0bdff8",
   "metadata": {},
   "outputs": [
    {
     "data": {
      "text/plain": [
       "[{'base_url': '/',\n",
       "  'hostname': 'localhost',\n",
       "  'password': False,\n",
       "  'pid': 368763,\n",
       "  'port': 8888,\n",
       "  'root_dir': '/home/beni/WM',\n",
       "  'secure': False,\n",
       "  'sock': '',\n",
       "  'token': 'f246a5ae1fab9d6a88e9bfe6c930a9bb22f21c6ba8c2e8e4',\n",
       "  'url': 'http://localhost:8888/',\n",
       "  'version': '2.15.0'}]"
      ]
     },
     "execution_count": 5,
     "metadata": {},
     "output_type": "execute_result"
    }
   ],
   "source": [
    "# Or we can directly call the code implementing `jupyter server list`:\n",
    "# https://github.com/jupyter-server/jupyter_server/blob/main/jupyter_server/serverapp.py\n",
    "# It reads `jpserver-*.json` files and does some sanity checks to filter live servers.\n",
    "import jupyter_server.serverapp\n",
    "servers = list(jupyter_server.serverapp.list_running_servers())\n",
    "servers"
   ]
  },
  {
   "cell_type": "code",
   "execution_count": 6,
   "id": "a3e1630b-4100-4282-b83f-bedd9e61d215",
   "metadata": {},
   "outputs": [
    {
     "data": {
      "text/plain": [
       "['http://localhost:8888/api/sessions?token=f246a5ae1fab9d6a88e9bfe6c930a9bb22f21c6ba8c2e8e4']"
      ]
     },
     "execution_count": 6,
     "metadata": {},
     "output_type": "execute_result"
    }
   ],
   "source": [
    "import json, urllib.request\n",
    "\n",
    "def url(serv, api_path):\n",
    "    return serv['url'].rstrip('/') + api_path + '?token=' + serv['token']\n",
    "\n",
    "[url(s, '/api/sessions') for s in servers]"
   ]
  },
  {
   "cell_type": "code",
   "execution_count": 7,
   "id": "28cabefb-44af-4716-b966-ad21bcd12006",
   "metadata": {
    "scrolled": true
   },
   "outputs": [
    {
     "data": {
      "text/plain": [
       "[{'id': 'e2a0720a-d695-43f8-be7e-ec635f44477c',\n",
       "  'path': 'newm-atha/HANDOFF.ipynb',\n",
       "  'name': 'HANDOFF.ipynb',\n",
       "  'type': 'notebook',\n",
       "  'kernel': {'id': '118d4b89-b22f-424d-8b5e-c8998db671c4',\n",
       "   'name': 'python3',\n",
       "   'last_activity': '2025-04-23T10:14:58.110645Z',\n",
       "   'execution_state': 'idle',\n",
       "   'connections': 4},\n",
       "  'notebook': {'path': 'newm-atha/HANDOFF.ipynb', 'name': 'HANDOFF.ipynb'}},\n",
       " {'id': 'a8277f8e-1daf-4b68-bc6e-c49b1fb78149',\n",
       "  'path': 'newm-atha/NEWM.ipynb',\n",
       "  'name': 'NEWM.ipynb',\n",
       "  'type': 'notebook',\n",
       "  'kernel': {'id': '9103b766-1f99-4fc5-88e8-2a7f3ff219f0',\n",
       "   'name': 'python3',\n",
       "   'last_activity': '2025-04-23T11:22:50.167444Z',\n",
       "   'execution_state': 'idle',\n",
       "   'connections': 1},\n",
       "  'notebook': {'path': 'newm-atha/NEWM.ipynb', 'name': 'NEWM.ipynb'}},\n",
       " {'id': '4a8cf496-6bc0-42b0-b5cf-8a6e2770c388',\n",
       "  'path': 'newm-atha/KERNELS.ipynb',\n",
       "  'name': 'KERNELS.ipynb',\n",
       "  'type': 'notebook',\n",
       "  'kernel': {'id': '72108b28-6b81-430f-a985-a77dc2c74c5f',\n",
       "   'name': 'python3',\n",
       "   'last_activity': '2025-04-23T11:23:51.072355Z',\n",
       "   'execution_state': 'busy',\n",
       "   'connections': 1},\n",
       "  'notebook': {'path': 'newm-atha/KERNELS.ipynb', 'name': 'KERNELS.ipynb'}},\n",
       " {'id': 'ec35ed15-457a-489d-bd37-31d6035b2f35',\n",
       "  'path': 'newm-atha/console-1-2af20d4b-c8c9-4c8a-81c3-259957bd2c9d',\n",
       "  'name': 'Console 1',\n",
       "  'type': 'console',\n",
       "  'kernel': {'id': '118d4b89-b22f-424d-8b5e-c8998db671c4',\n",
       "   'name': 'python3',\n",
       "   'last_activity': '2025-04-23T10:14:58.110645Z',\n",
       "   'execution_state': 'idle',\n",
       "   'connections': 4}},\n",
       " {'id': 'adaa6eb9-283c-4bb5-bcf2-c3a45f4590c0',\n",
       "  'path': 'newm-atha/console-2-d3c51afe-d9ef-41e6-b387-03537a58a6ee',\n",
       "  'name': 'Console 2',\n",
       "  'type': 'console',\n",
       "  'kernel': {'id': '118d4b89-b22f-424d-8b5e-c8998db671c4',\n",
       "   'name': 'python3',\n",
       "   'last_activity': '2025-04-23T10:14:58.110645Z',\n",
       "   'execution_state': 'idle',\n",
       "   'connections': 4}}]"
      ]
     },
     "execution_count": 7,
     "metadata": {},
     "output_type": "execute_result"
    }
   ],
   "source": [
    "def api_sessions(serv):\n",
    "    return json.load(urllib.request.urlopen(url(serv, '/api/sessions')))\n",
    "\n",
    "api_sessions(servers[0])"
   ]
  },
  {
   "cell_type": "markdown",
   "id": "afb9a25b-45d8-485f-8aee-b244b597eaff",
   "metadata": {},
   "source": [
    "# Kernels may run under sessions, but may also run independently\n",
    "To illustrate the differences in diagrams below, I'm concurrently running:\n",
    "\n",
    "1. A `jupyter console`.  \n",
    "   Launches a kernel subprocess which listens on zeromq — has a connection file, but not known to any server's /api, so can be joined by `jupyter console --existing` but can NOT be used be notebooks.\n",
    "    * Normally the parent process picks zeromq ports, [writes](https://github.com/jupyter/jupyter_client/blob/6ea834d69d9404b9b67fbc066ee8bdf1d7d2ede6/jupyter_client/provisioning/local_provisioner.py#L191-L195) a [kernel-{PID}.json connection file](https://github.com/jupyter/jupyter_client/blob/6ea834d69d9404b9b67fbc066ee8bdf1d7d2ede6/jupyter_client/consoleapp.py#L136), passes it to child (per `-f {connection_file}` in kernelspec template), owns and [cleans up](https://github.com/jupyter/jupyter_client/blob/6ea834d69d9404b9b67fbc066ee8bdf1d7d2ede6/jupyter_client/connect.py#L493).  (If you kill parent, file may be left behind.)\n",
    "    * subprocess has fallback logic to [create and cleanup](https://github.com/ipython/ipykernel/blob/83b51a60fcba003556a23322cb8c154fa27a8de2/ipykernel/kernelapp.py#L319-L322) connection files, but that I think is only for manual use (`python -m ipykernel` prints on stdout how to connect).\n",
    "\n",
    "2. An `ipython`.  \n",
    "   Uses ipykernel code in-process, no zeromq sockets, no connection file.\n",
    "\n",
    "Notebook servers use similar jupyter_client logic to write a [kernel-{UUID}.json connection file](https://github.com/jupyter/jupyter_client/blob/6ea834d69d9404b9b67fbc066ee8bdf1d7d2ede6/jupyter_client/multikernelmanager.py#L209) to runtime/ dir and launch kernel subprocess,  \n",
    "but they _also_ advertise the kernel in their HTTP /api/kernels, AND proxy websocket<->zeromq, allowing browser use."
   ]
  },
  {
   "cell_type": "code",
   "execution_count": 8,
   "id": "3946c2e0-0ef0-49ec-a9de-ab2ab4c469af",
   "metadata": {},
   "outputs": [],
   "source": [
    "import subprocess, time\n",
    "console_term = subprocess.Popen(['xterm', '-e', 'jupyter', 'console', '--debug'])\n",
    "ipython_term = subprocess.Popen(['xterm', '-e', 'ipython', '--debug'])\n",
    "time.sleep(2) "
   ]
  },
  {
   "cell_type": "code",
   "execution_count": 9,
   "id": "b736c47d-ff1c-4a42-b7f0-de826e751e7b",
   "metadata": {
    "scrolled": true
   },
   "outputs": [
    {
     "data": {
      "text/plain": [
       "[{'id': '118d4b89-b22f-424d-8b5e-c8998db671c4',\n",
       "  'name': 'python3',\n",
       "  'last_activity': '2025-04-23T10:14:58.110645Z',\n",
       "  'execution_state': 'idle',\n",
       "  'connections': 4},\n",
       " {'id': '9103b766-1f99-4fc5-88e8-2a7f3ff219f0',\n",
       "  'name': 'python3',\n",
       "  'last_activity': '2025-04-23T11:22:50.167444Z',\n",
       "  'execution_state': 'idle',\n",
       "  'connections': 1},\n",
       " {'id': '72108b28-6b81-430f-a985-a77dc2c74c5f',\n",
       "  'name': 'python3',\n",
       "  'last_activity': '2025-04-23T11:23:53.344807Z',\n",
       "  'execution_state': 'busy',\n",
       "  'connections': 1}]"
      ]
     },
     "execution_count": 9,
     "metadata": {},
     "output_type": "execute_result"
    }
   ],
   "source": [
    "# Kernels managed by the server:\n",
    "def api_kernels(serv):\n",
    "    return json.load(urllib.request.urlopen(url(serv, '/api/kernels')))\n",
    "\n",
    "for serv in servers:\n",
    "    # comparing ids, some other fields may vary, notably 'last_activity'.\n",
    "    session_kernel_ids = {s['kernel']['id'] for s in api_sessions(serv)}\n",
    "    kernel_ids = {k['id'] for k in api_kernels(serv)}\n",
    "    assert session_kernel_ids == kernel_ids\n",
    "\n",
    "api_kernels(servers[0])"
   ]
  },
  {
   "cell_type": "code",
   "execution_count": null,
   "id": "987ff39d-4164-47e5-b345-c3d36bde1885",
   "metadata": {},
   "outputs": [],
   "source": [
    "# https://discourse.jupyter.org/t/how-to-get-kernel-state-from-running-local-jupyter-notebook/15028/4\n",
    "# cf. also `find_connection_file()` in https://github.com/jupyter/jupyter_client/blob/main/jupyter_client/connect.py\n",
    "import jupyter_core, jupyter_client, pathlib\n",
    "rt_dir = pathlib.Path(jupyter_core.paths.jupyter_runtime_dir())\n",
    "conn_files = list(rt_dir.glob(\"kernel-*.json\"))\n",
    "conn_files"
   ]
  },
  {
   "cell_type": "code",
   "execution_count": 11,
   "id": "ae9f47a0-dee2-4f4c-a575-021de1320555",
   "metadata": {},
   "outputs": [
    {
     "data": {
      "text/plain": [
       "PosixPath('/home/beni/.local/share/jupyter/runtime/kernel-72108b28-6b81-430f-a985-a77dc2c74c5f.json')"
      ]
     },
     "execution_count": 11,
     "metadata": {},
     "output_type": "execute_result"
    }
   ],
   "source": [
    "import ipykernel\n",
    "this_kernel_file = pathlib.Path(ipykernel.get_connection_file())\n",
    "# RuntimeError if not running under ipykernel\n",
    "assert this_kernel_file in conn_files\n",
    "this_kernel_file"
   ]
  },
  {
   "cell_type": "markdown",
   "id": "3af666bc-ebbb-4b09-bdb9-0a9357e83938",
   "metadata": {},
   "source": [
    "### Connection file content don't include `id` like API — instead the ID appears in the file name!  \n",
    "(they have 'key' which is unrelated).  \n",
    "See also https://gist.github.com/minrk/e49fb6c06ac2e45eb4fe32135671634b on correlating files & processes."
   ]
  },
  {
   "cell_type": "code",
   "execution_count": 12,
   "id": "7eec0fe6-17cb-4b27-a4b1-38c7ca005eb8",
   "metadata": {},
   "outputs": [],
   "source": [
    "def kernel_id_from_file(f: pathlib.Path):\n",
    "    return f.stem.replace('kernel-', '')\n",
    "\n",
    "this_kernel_id = kernel_id_from_file(this_kernel_file)"
   ]
  },
  {
   "cell_type": "code",
   "execution_count": 13,
   "id": "6808692d-fe84-4940-9979-1f215428ab02",
   "metadata": {
    "scrolled": true
   },
   "outputs": [
    {
     "data": {
      "text/plain": [
       "{'327856': {'shell_port': 40405,\n",
       "  'iopub_port': 43905,\n",
       "  'stdin_port': 32937,\n",
       "  'control_port': 36113,\n",
       "  'hb_port': 36171,\n",
       "  'ip': '127.0.0.1',\n",
       "  'key': 'ab505fa7-6a4c50ad9f318d7e3a004202',\n",
       "  'transport': 'tcp',\n",
       "  'signature_scheme': 'hmac-sha256',\n",
       "  'kernel_name': ''},\n",
       " '118d4b89-b22f-424d-8b5e-c8998db671c4': {'shell_port': 55453,\n",
       "  'iopub_port': 43049,\n",
       "  'stdin_port': 48923,\n",
       "  'control_port': 56435,\n",
       "  'hb_port': 55391,\n",
       "  'ip': '127.0.0.1',\n",
       "  'key': '92bd466c-933ba0099f222407279b193d',\n",
       "  'transport': 'tcp',\n",
       "  'signature_scheme': 'hmac-sha256',\n",
       "  'kernel_name': 'python3',\n",
       "  'jupyter_session': '/home/beni/WM/newm-atha/HANDOFF.ipynb'},\n",
       " '9103b766-1f99-4fc5-88e8-2a7f3ff219f0': {'shell_port': 33825,\n",
       "  'iopub_port': 45903,\n",
       "  'stdin_port': 37911,\n",
       "  'control_port': 42115,\n",
       "  'hb_port': 56937,\n",
       "  'ip': '127.0.0.1',\n",
       "  'key': '5a633538-ebc3987e062dd837ffb6a1c5',\n",
       "  'transport': 'tcp',\n",
       "  'signature_scheme': 'hmac-sha256',\n",
       "  'kernel_name': 'python3',\n",
       "  'jupyter_session': '/home/beni/WM/newm-atha/NEWM.ipynb'},\n",
       " '72108b28-6b81-430f-a985-a77dc2c74c5f': {'shell_port': 41925,\n",
       "  'iopub_port': 45771,\n",
       "  'stdin_port': 32825,\n",
       "  'control_port': 38981,\n",
       "  'hb_port': 58401,\n",
       "  'ip': '127.0.0.1',\n",
       "  'key': 'f56bdde0-7ba7335e4e0e2ce26ac976cf',\n",
       "  'transport': 'tcp',\n",
       "  'signature_scheme': 'hmac-sha256',\n",
       "  'kernel_name': 'python3',\n",
       "  'jupyter_session': '/home/beni/WM/newm-atha/KERNELS.ipynb'}}"
      ]
     },
     "execution_count": 13,
     "metadata": {},
     "output_type": "execute_result"
    }
   ],
   "source": [
    "def kernels_infos():\n",
    "    \"\"\"Kernel connection infos, from connection files, may include dead kernels.\"\"\"\n",
    "    conn_files = list(rt_dir.glob(\"kernel-*.json\"))\n",
    "    return {kernel_id_from_file(f): json.load(open(f)) for f in conn_files}\n",
    "    \n",
    "kernels_infos()"
   ]
  },
  {
   "cell_type": "code",
   "execution_count": 14,
   "id": "840a1048-b717-48bd-ace3-642d409e4d1f",
   "metadata": {
    "editable": true,
    "slideshow": {
     "slide_type": ""
    },
    "tags": []
   },
   "outputs": [],
   "source": [
    "import psutil"
   ]
  },
  {
   "cell_type": "code",
   "execution_count": 15,
   "id": "521d6514-fb7d-4b0a-b3fd-ea47781d8763",
   "metadata": {
    "editable": true,
    "slideshow": {
     "slide_type": ""
    },
    "tags": []
   },
   "outputs": [
    {
     "name": "stdout",
     "output_type": "stream",
     "text": [
      "['/home/beni/.cache/uv/archive-v0/8wgqDnHJf0aB-j3d2GoEc/bin/python', '/home/beni/.cache/uv/archive-v0/8wgqDnHJf0aB-j3d2GoEc/bin/jupyter-lab']\n",
      "psutil.Process(pid=368710, name='uv', status='sleeping', started='2025-04-21 13:01:54')\n"
     ]
    },
    {
     "data": {
      "text/plain": [
       "{389839: '/home/beni/.cache/uv/archive-v0/8wgqDnHJf0aB-j3d2GoEc/bin/python -m ipykernel_launcher -f /home/beni/.local/share/jupyter/runtime/kernel-118d4b89-b22f-424d-8b5e-c8998db671c4.json',\n",
       " 389842: '/home/beni/.cache/uv/archive-v0/8wgqDnHJf0aB-j3d2GoEc/bin/python -m ipykernel_launcher -f /home/beni/.local/share/jupyter/runtime/kernel-9103b766-1f99-4fc5-88e8-2a7f3ff219f0.json',\n",
       " 666998: '/home/beni/.cache/uv/archive-v0/8wgqDnHJf0aB-j3d2GoEc/bin/python -m ipykernel_launcher -f /home/beni/.local/share/jupyter/runtime/kernel-72108b28-6b81-430f-a985-a77dc2c74c5f.json'}"
      ]
     },
     "execution_count": 15,
     "metadata": {},
     "output_type": "execute_result"
    }
   ],
   "source": [
    "serv_process = psutil.Process(serv['pid'])\n",
    "print(serv_process.cmdline())\n",
    "print(serv_process.parent())\n",
    "{c.pid: ' '.join(c.cmdline()) for c in serv_process.children()}"
   ]
  },
  {
   "cell_type": "code",
   "execution_count": 37,
   "id": "ab5354a1-024d-43cb-b185-2e8797b562aa",
   "metadata": {},
   "outputs": [
    {
     "data": {
      "text/plain": [
       "{'118d4b89-b22f-424d-8b5e-c8998db671c4': psutil.Process(pid=389839, name='python', status='sleeping', started='2025-04-21 20:12:24'),\n",
       " '9103b766-1f99-4fc5-88e8-2a7f3ff219f0': psutil.Process(pid=389842, name='python', status='sleeping', started='2025-04-21 20:12:24'),\n",
       " '72108b28-6b81-430f-a985-a77dc2c74c5f': psutil.Process(pid=666998, name='python', status='running', started='14:23:33')}"
      ]
     },
     "execution_count": 37,
     "metadata": {},
     "output_type": "execute_result"
    }
   ],
   "source": [
    "# Find processes by kernel ID appearing on command line (as part of file name — at least for ipykernel)\n",
    "def kernel_procs_by_kid():\n",
    "    kernels = kernels_infos()\n",
    "    procs_by_kid = {}\n",
    "    for p in psutil.process_iter(attrs=['cmdline', 'name', 'pid']):\n",
    "        cmdline = p.info['cmdline'] or [p.info['name']] # fallback for zombie processes\n",
    "        for k in kernels:\n",
    "            if k in ''.join(cmdline):\n",
    "                procs_by_kid[k] = p\n",
    "    return procs_by_kid\n",
    "\n",
    "kernel_procs_by_kid()"
   ]
  },
  {
   "cell_type": "markdown",
   "id": "f5930ffa-4c9c-493e-a96d-1646c78ae392",
   "metadata": {},
   "source": [
    "## Talk to a kernel"
   ]
  },
  {
   "cell_type": "code",
   "execution_count": null,
   "id": "199fd45f-67b6-466d-b576-79b0406ad4e3",
   "metadata": {
    "scrolled": true
   },
   "outputs": [],
   "source": [
    "client = jupyter_client.AsyncKernelClient()\n",
    "client.load_connection_file(conn_files[1])\n",
    "\n",
    "#print(await client.comm_info(reply=True))\n",
    "\n",
    "# https://stackoverflow.com/a/79339022/\n",
    "def output_hook(msg):\n",
    "    print(msg['msg_type'], msg['content'])\n",
    "#reply = await client.execute_interactive(code='''2+2''', output_hook=output_hook)"
   ]
  },
  {
   "cell_type": "markdown",
   "id": "b112cd5c-fd0d-49ab-bd62-84066a34f659",
   "metadata": {},
   "source": [
    "# Putting it all together => Diagram! 🍰"
   ]
  },
  {
   "cell_type": "code",
   "execution_count": null,
   "id": "1e49629e-3dca-4cef-b7da-c5138cda837b",
   "metadata": {
    "jupyter": {
     "source_hidden": true
    }
   },
   "outputs": [],
   "source": [
    "def Mermaid(text_or_pieces):\n",
    "    # official way is being discussed https://github.com/ipython/ipython/issues/14319\n",
    "    # but for now use markdown.\n",
    "    from IPython.display import Markdown\n",
    "    return Markdown(f'```mermaid\\n{flatten(text_or_pieces)}\\n```')\n",
    "\n",
    "def flatten(text_or_pieces, _indent=''):\n",
    "    \"\"\"Join strings with newlines, flatten nested arrays/iterators with indentation.\n",
    "    \n",
    "    Makes it simpler to template diagram structure with functions calling functions.\"\"\"\n",
    "    match text_or_pieces:\n",
    "        case str(text):\n",
    "            return _indent + text\n",
    "        case pieces: # assume list/iterable\n",
    "            return '\\n'.join(flatten(p, _indent + '  ') for p in pieces)\n",
    "\n",
    "import re\n",
    "def node_id(txt):\n",
    "    return re.sub(r'[^A-Za-z0-9]+', '_', txt)\n",
    "\n",
    "def node(txt, open=\"([\", close=\"])\"):\n",
    "    \"\"\"Safe to use repeatedly - if same node is listed with last text wins.\"\"\"\n",
    "    return f'{node_id(txt)}{open}\"{txt}\"{close}'\n",
    "\n",
    "Mermaid([\n",
    "    'graph LR',\n",
    "    [f'chicken --> {node(\"An egg\")} --> chicken'],\n",
    "])\n"
   ]
  },
  {
   "cell_type": "code",
   "execution_count": null,
   "id": "a0c64899-b8ce-4584-aefe-47841d0a8963",
   "metadata": {},
   "outputs": [],
   "source": [
    "for p in psutil.process_iter(attrs=['cmdline', 'pid']):\n",
    "    if p.info['cmdline'] and 'jupy' in p.info['cmdline'][0]:\n",
    "        print(p.info)"
   ]
  },
  {
   "cell_type": "code",
   "execution_count": null,
   "id": "f7df635d-a0d8-4f85-b5a3-c2534f2b5c3a",
   "metadata": {
    "scrolled": true
   },
   "outputs": [],
   "source": [
    "def diagram():\n",
    "    import re, shlex\n",
    "\n",
    "    visited_procs = set()\n",
    "\n",
    "    def proc_text(proc: psutil.Process, body=[]):\n",
    "        if proc.pid in visited_procs:\n",
    "            return\n",
    "        visited_procs.add(proc.pid)\n",
    "        cmd = \"<br>\".join(shlex.quote(w) for w in proc.cmdline())\n",
    "        yield f'subgraph pid{proc.pid} [\"pid {proc.pid}\"]'\n",
    "        yield [f'cmd{proc.pid}[\"{cmd}\"]', f'style cmd{proc.pid} stroke-width:0,fill:none']\n",
    "        yield body\n",
    "        yield f'end'\n",
    "        # link from parent\n",
    "        if proc.parent():\n",
    "            yield f'pid{proc.parent().pid} --> pid{proc.pid}'\n",
    "            #yield proc_text(proc.parent())\n",
    "        # yield [proc_text(p) for p in proc.children()]\n",
    "\n",
    "    procs_by_kid = kernel_procs_by_kid()\n",
    "    \n",
    "    def kernel_text(k_id, k):\n",
    "        id = node_id(f\"Kernel {k_id}\")\n",
    "        txt = f\"kernel {k_id}<br>{k.get('kernel_name')}<br>jupyter_session: {k.get('jupyter_session')}\"\n",
    "        if k_id == this_kernel_id:\n",
    "            txt = \"This \" + txt\n",
    "        body = [id + '{{\"' + txt + '\"}}']\n",
    "        if k_id == this_kernel_id:\n",
    "            body += [f'style {id} stroke-width:3px']\n",
    "        if k_id in procs_by_kid:\n",
    "            yield proc_text(procs_by_kid[k_id], body)\n",
    "            yield proc_text(procs_by_kid[k_id].parent())\n",
    "        else:\n",
    "            return body\n",
    "    \n",
    "    def session_text(s):\n",
    "        if re.match(r'^[-0-9a-f]{30,}$', s['path']):\n",
    "            path = ''  # UUID\n",
    "        else:\n",
    "            path = s['path']\n",
    "        #name = s['name'] if s['name'] != s['id'] else ''\n",
    "        return f\"\"\"{node_id(f\"Session {s['id']}\")}([\"Session {s['id']}<br>type: {s['type']}<br>name: {path}\"])\"\"\"\n",
    "\n",
    "    def session_link(s):\n",
    "        kernel_node = node_id(f\"Kernel {s['kernel']['id']}\")\n",
    "        session_node = node_id(f\"Session {s['id']}\")\n",
    "        return f\"\"\"{node_id(f\"Session {s['id']}\")} -..- {kernel_node}\"\"\"\n",
    "    \n",
    "    def serv_text(serv):\n",
    "        pid = serv['pid']\n",
    "        yield proc_text(psutil.Process(pid), [\n",
    "            f'subgraph api{pid} [API {serv[\"url\"]}]',\n",
    "            [f'style api{pid} rx:3ex,ry:3ex'],  # Rounded corners as API is conceptual (square = process).\n",
    "            [session_text(s) for s in api_sessions(serv)],\n",
    "            f'end',\n",
    "        ])\n",
    "        # Link sessions-kernels outside, to avoids pulling orphan kernel nodes into the subgraph\n",
    "        for s in api_sessions(serv):\n",
    "            yield session_link(s)\n",
    "\n",
    "    yield '%%{init: {\"flowchart\": {\"htmlLabels\": false}} }%%' # mitigate long markdown disappearing https://github.com/mermaid-js/mermaid/issues/5785\n",
    "    yield 'flowchart LR'\n",
    "    yield [serv_text(s) for s in servers]\n",
    "    yield [kernel_text(k_id, k) for k_id, k in kernels_infos().items()]\n",
    "    # yield ['markdown[\"`/This **is** _Markdown_ -n --foo`\"]']\n",
    "\n",
    "print(flatten(diagram()))"
   ]
  },
  {
   "cell_type": "code",
   "execution_count": null,
   "id": "a1d0e555-fa09-497b-aa96-2288a4be32fa",
   "metadata": {},
   "outputs": [],
   "source": [
    "Mermaid(diagram())"
   ]
  },
  {
   "cell_type": "code",
   "execution_count": null,
   "id": "139d2a3e-dc39-4547-84ec-11a04fc83317",
   "metadata": {},
   "outputs": [],
   "source": []
  },
  {
   "cell_type": "markdown",
   "id": "dff6f74d-0c1f-4bbc-adec-aa3076fb2618",
   "metadata": {},
   "source": [
    "# Create session\n",
    "POST -> session created -> kernel gets provisioned -> response includes session & kernel info  \n",
    "https://jupyter-server.readthedocs.io/en/latest/developers/architecture.html#create-session-workflow  \n",
    "https://jupyter-server.readthedocs.io/en/latest/developers/rest-api.html#post--api-sessions"
   ]
  },
  {
   "cell_type": "code",
   "execution_count": null,
   "id": "7d9b2ddb-2168-4098-9288-b8aa502ea570",
   "metadata": {},
   "outputs": [],
   "source": [
    "session_to_create = {\n",
    "    'type': 'notebook',\n",
    "    'name': 'CreatedByAPI.ipynb',\n",
    "    'path': './CreatedByAPI.ipynb',\n",
    "    'kernel': {'name': 'python3'},\n",
    "}\n",
    "response = urllib.request.urlopen(urllib.request.Request(\n",
    "    url(servers[0], '/api/sessions'), method='POST',\n",
    "    headers={'Content-Type': 'application/json'},\n",
    "    data=json.dumps(session_to_create).encode()\n",
    "))\n",
    "new_session = json.load(response)\n",
    "new_session"
   ]
  },
  {
   "cell_type": "code",
   "execution_count": null,
   "id": "ce836728-0606-480b-b7be-7cbfef4b86e7",
   "metadata": {},
   "outputs": [],
   "source": [
    "Mermaid(diagram())"
   ]
  },
  {
   "cell_type": "code",
   "execution_count": null,
   "id": "42a6b9e4-8987-4bfa-bac0-1699b3952a1a",
   "metadata": {},
   "outputs": [],
   "source": [
    "response = urllib.request.urlopen(urllib.request.Request(\n",
    "    url(servers[0], f\"/api/sessions/{new_session['id']}\"), method='DELETE',\n",
    "    headers={'Content-Type': 'application/json'},\n",
    "))\n",
    "response.code"
   ]
  },
  {
   "cell_type": "markdown",
   "id": "70905599-aa71-4411-ad52-42eab653d585",
   "metadata": {},
   "source": [
    "## What happens when switching a notebook to a different kernel?"
   ]
  },
  {
   "attachments": {
    "05e9a562-2c4b-4fe0-8c70-60dc6e84a71f.png": {
     "image/png": "[encoded data removed]"
    }
   },
   "cell_type": "markdown",
   "id": "4ad94ad7-e466-4564-a16d-960ae7a33020",
   "metadata": {},
   "source": [
    "<img alt=\"Screenshot\" src=\"attachment:05e9a562-2c4b-4fe0-8c70-60dc6e84a71f.png\" width=\"30%\">"
   ]
  },
  {
   "cell_type": "code",
   "execution_count": null,
   "id": "5b4f15bb-48f3-4d77-982e-17025a17b795",
   "metadata": {},
   "outputs": [],
   "source": [
    "Mermaid(diagram())"
   ]
  },
  {
   "cell_type": "markdown",
   "id": "97cec404-7870-41fa-ba0b-8b2c6736379d",
   "metadata": {},
   "source": [
    "UI sends [PATCH /api/sessions/{id}](https://jupyter-server.readthedocs.io/en/latest/developers/rest-api.html#patch--api-sessions-session)\n",
    "> URL: http://localhost:8888/api/sessions/d70204f2-ec94-47d9-aacd-a3dee4926ae0?1742395142370=  \n",
    "> body: `{\"kernel\":{\"id\":\"f51e3beb-69fe-4809-8aa6-e98adcae0359\"},\"id\":\"d70204f2-ec94-47d9-aacd-a3dee4926ae0\"}`\n",
    "\n",
    "referring to session which used to be:\n",
    "```\n",
    "{'id': 'd70204f2-ec94-47d9-aacd-a3dee4926ae0',\n",
    "  'path': 'HANDOFF.ipynb',\n",
    "  'name': 'HANDOFF.ipynb',\n",
    "  'type': 'notebook',\n",
    "  'kernel': {'id': 'ad58c9e0-f588-4a27-af90-cc6eda4304d5',\n",
    "   'name': 'python3',\n",
    "   'last_activity': '2025-03-19T11:24:01.445668Z',\n",
    "   'execution_state': 'idle',\n",
    "   'connections': 1},\n",
    "  'notebook': {'path': 'HANDOFF.ipynb', 'name': 'HANDOFF.ipynb'}}\n",
    "```\n",
    "\n",
    "jupyter lab logs:\n",
    "```\n",
    "[I 2025-03-19 16:39:02.381 ServerApp] Kernel shutdown: ad58c9e0-f588-4a27-af90-cc6eda4304d5\n",
    "[I 2025-03-19 16:39:02.814 ServerApp] Connecting to kernel f51e3beb-69fe-4809-8aa6-e98adcae0359.\n",
    "```\n",
    "\n",
    "* Shuts down old kernel without checking.  \n",
    "  Switching HANDOFF.ipynb again shut down the shared kernel, leaving this KERNELS.ipynb with no kernel!"
   ]
  },
  {
   "cell_type": "code",
   "execution_count": null,
   "id": "3730082a-231a-4a46-bf68-3bc39b6deae3",
   "metadata": {},
   "outputs": [],
   "source": [
    "kernels_infos()"
   ]
  },
  {
   "cell_type": "code",
   "execution_count": null,
   "id": "f5ecfb38-0722-4731-af51-2ff28e71a1ff",
   "metadata": {},
   "outputs": [],
   "source": [
    "api_sessions(serv)"
   ]
  },
  {
   "cell_type": "code",
   "execution_count": null,
   "id": "0907d95e-d83b-4326-89c6-d62fbc9b4208",
   "metadata": {
    "editable": true,
    "slideshow": {
     "slide_type": ""
    },
    "tags": []
   },
   "outputs": [],
   "source": []
  },
  {
   "cell_type": "code",
   "execution_count": 39,
   "id": "d8b901dd-e2eb-4ead-a401-834f1ab379d8",
   "metadata": {},
   "outputs": [
    {
     "name": "stdout",
     "output_type": "stream",
     "text": [
      "xterm: cannot load font \"Huge\"\n",
      "Warning: Cannot convert string \"Huge\" to type FontStruct\n",
      "xterm: cannot load font \"-adobe-courier-medium-r-normal--24-240-75-75-m-150-iso10646-1\"\n"
     ]
    }
   ],
   "source": [
    "!xterm -fn Huge"
   ]
  },
  {
   "cell_type": "markdown",
   "id": "128ba64b-4d7e-4e47-9bfb-c8b76635cc31",
   "metadata": {
    "jp-MarkdownHeadingCollapsed": true
   },
   "source": [
    "## Cleanup `jupyter console` and `ipython`\n",
    "TODO: crude, leaves connection file around.  Opened https://github.com/jupyter/jupyter_console/issues/302  \n",
    "TODO: correlate by kernel_procs_by_kid() and remove file? :-("
   ]
  },
  {
   "cell_type": "code",
   "execution_count": null,
   "id": "073b658e-a4b1-46cf-b56f-ce4baadd618a",
   "metadata": {},
   "outputs": [],
   "source": [
    "import psutil, time\n",
    "def kill_process(pid):\n",
    "    try:\n",
    "        p = psutil.Process(pid)\n",
    "        print(f'killing {p.pid}: {p.cmdline()}')\n",
    "        p.terminate()\n",
    "        time.sleep(0.2)\n",
    "        if p.is_running():\n",
    "            p.kill()\n",
    "    except psutil.ZombieProcess:\n",
    "        print(f'zombie {p.pid}')\n",
    "    print('->', psutil.wait_procs([p], timeout=0.2))\n",
    "\n",
    "def kill_process_with_kernels(pid):\n",
    "    for c in psutil.Process(pid).children(recursive=True):\n",
    "        if c.is_running() and c.status() != psutil.STATUS_ZOMBIE and 'ipykernel_launcher' in c.cmdline():\n",
    "            kill_process(c.pid)\n",
    "    time.sleep(0.2)\n",
    "    kill_process(pid)"
   ]
  },
  {
   "cell_type": "code",
   "execution_count": null,
   "id": "ab0872eb-77ae-4f06-9cf9-15b51d7ac321",
   "metadata": {},
   "outputs": [],
   "source": [
    "#kill_process_with_kernels(console_term.pid)\n",
    "#kill_process_with_kernels(ipython_term.pid)"
   ]
  },
  {
   "cell_type": "code",
   "execution_count": null,
   "id": "167c29e2-efca-4651-bc6e-66c94c93500e",
   "metadata": {},
   "outputs": [],
   "source": []
  },
  {
   "cell_type": "markdown",
   "id": "16d2c1da-ff07-4fc1-ac02-937de03a44d1",
   "metadata": {},
   "source": [
    "## ❓ I hear VSCode don't use jupyter server — how does their kernel lifecycle work then?\n",
    "\n",
    "cf. https://github.com/microsoft/vscode-jupyter/issues/3998"
   ]
  }
 ],
 "metadata": {
  "kernelspec": {
   "display_name": "Python 3 (ipykernel)",
   "language": "python",
   "name": "python3"
  },
  "language_info": {
   "codemirror_mode": {
    "name": "ipython",
    "version": 3
   },
   "file_extension": ".py",
   "mimetype": "text/x-python",
   "name": "python",
   "nbconvert_exporter": "python",
   "pygments_lexer": "ipython3",
   "version": "3.13.3"
  }
 },
 "nbformat": 4,
 "nbformat_minor": 5
}
